{
 "cells": [
  {
   "cell_type": "markdown",
   "metadata": {
    "id": "vmNDOZdTB2I8"
   },
   "source": [
    "## Let's Mount Google Drive to save and load files directly from it. We will use it later to save our model to the drive."
   ]
  },
  {
   "cell_type": "code",
   "execution_count": null,
   "metadata": {
    "colab": {
     "base_uri": "https://localhost:8080/"
    },
    "id": "u7z_hrfsQqmF",
    "outputId": "f5a139bb-193e-4fb0-9e9c-c24daaf0c312"
   },
   "outputs": [
    {
     "name": "stdout",
     "output_type": "stream",
     "text": [
      "Mounted at /content/drive\n"
     ]
    }
   ],
   "source": [
    "from google.colab import drive\n",
    "drive.mount('/content/drive')"
   ]
  },
  {
   "cell_type": "markdown",
   "metadata": {
    "id": "MTIzSgbGCDLi"
   },
   "source": [
    "## Next, we will import required libraries, set up data transformations, download the MNIST dataset, and create a DataLoader to feed images into the model in batches."
   ]
  },
  {
   "cell_type": "code",
   "execution_count": 3,
   "metadata": {
    "colab": {
     "base_uri": "https://localhost:8080/"
    },
    "id": "OV-LZpRFQ3sd",
    "outputId": "44edd0dc-3d79-47a5-b624-3a57be9ad830"
   },
   "outputs": [
    {
     "ename": "ModuleNotFoundError",
     "evalue": "No module named 'torch.vision'",
     "output_type": "error",
     "traceback": [
      "\u001b[0;31m---------------------------------------------------------------------------\u001b[0m",
      "\u001b[0;31mModuleNotFoundError\u001b[0m                       Traceback (most recent call last)",
      "\u001b[1;32m/Users/archie/UNI3/Machine Learning/lab/Week8_Lab_GANs_MNIST-Final.ipynb Cell 4\u001b[0m line \u001b[0;36m2\n\u001b[1;32m      <a href='vscode-notebook-cell:/Users/archie/UNI3/Machine%20Learning/lab/Week8_Lab_GANs_MNIST-Final.ipynb#W3sZmlsZQ%3D%3D?line=0'>1</a>\u001b[0m \u001b[39mimport\u001b[39;00m \u001b[39mtorch\u001b[39;00m\n\u001b[0;32m----> <a href='vscode-notebook-cell:/Users/archie/UNI3/Machine%20Learning/lab/Week8_Lab_GANs_MNIST-Final.ipynb#W3sZmlsZQ%3D%3D?line=1'>2</a>\u001b[0m \u001b[39mfrom\u001b[39;00m \u001b[39mtorch\u001b[39;00m\u001b[39m.\u001b[39;00m\u001b[39mvision\u001b[39;00m \u001b[39mimport\u001b[39;00m datasets, transforms\n\u001b[1;32m      <a href='vscode-notebook-cell:/Users/archie/UNI3/Machine%20Learning/lab/Week8_Lab_GANs_MNIST-Final.ipynb#W3sZmlsZQ%3D%3D?line=2'>3</a>\u001b[0m \u001b[39mfrom\u001b[39;00m \u001b[39mtorch\u001b[39;00m\u001b[39m.\u001b[39;00m\u001b[39mutils\u001b[39;00m\u001b[39m.\u001b[39;00m\u001b[39mdata\u001b[39;00m \u001b[39mimport\u001b[39;00m DataLoader\n\u001b[1;32m      <a href='vscode-notebook-cell:/Users/archie/UNI3/Machine%20Learning/lab/Week8_Lab_GANs_MNIST-Final.ipynb#W3sZmlsZQ%3D%3D?line=4'>5</a>\u001b[0m \u001b[39m# Define transformations for the MNIST dataset\u001b[39;00m\n",
      "\u001b[0;31mModuleNotFoundError\u001b[0m: No module named 'torch.vision'"
     ]
    }
   ],
   "source": [
    "import torch\n",
    "from torch.vision import datasets, transforms\n",
    "from torch.utils.data import DataLoader\n",
    "\n",
    "# Define transformations for the MNIST dataset\n",
    "transform = transforms.Compose([\n",
    "    transforms.ToTensor(),\n",
    "    transforms.Normalize((0.5,), (0.5,))  # Normalize to range [-1, 1]\n",
    "])\n",
    "\n",
    "# Download the MNIST dataset\n",
    "train_dataset = datasets.MNIST(root='mnist_data', train=True, transform=transform, download=False)\n",
    "\n",
    "# Create data loader\n",
    "batch_size = 64\n",
    "train_loader = DataLoader(train_dataset, batch_size=batch_size, shuffle=True)\n",
    "\n",
    "# Check data shape\n",
    "data_iter = iter(train_loader)\n",
    "images, labels = next(data_iter)\n",
    "print(f\"Image batch dimensions: {images.shape}\")\n",
    "print(f\"Label batch dimensions: {labels.shape}\")\n"
   ]
  },
  {
   "cell_type": "markdown",
   "metadata": {
    "id": "TK8RUV0rCUP_"
   },
   "source": [
    "\n",
    "## Next, we will do three things:\n",
    "\n",
    "- Define Generator: Define the architecture of the generator model, which transforms random noise into a 28x28 image.\n",
    "\n",
    "- Define Discriminator: Define the discriminator model architecture, which classifies 28x28 images as real or fake.\n",
    "\n",
    "- Instantiate Models: Initialize the generator and discriminator models, set up a device (CPU or GPU), and move the models to the selected device."
   ]
  },
  {
   "cell_type": "code",
   "execution_count": null,
   "metadata": {
    "colab": {
     "base_uri": "https://localhost:8080/"
    },
    "id": "MNrQWbeGRr0-",
    "outputId": "3f979109-e8df-4fda-a8d3-a6c24b9087d5"
   },
   "outputs": [
    {
     "name": "stdout",
     "output_type": "stream",
     "text": [
      "Generator architecture:\n",
      " Generator(\n",
      "  (gen): Sequential(\n",
      "    (0): Linear(in_features=100, out_features=256, bias=True)\n",
      "    (1): LeakyReLU(negative_slope=0.2)\n",
      "    (2): Linear(in_features=256, out_features=512, bias=True)\n",
      "    (3): LeakyReLU(negative_slope=0.2)\n",
      "    (4): Linear(in_features=512, out_features=1024, bias=True)\n",
      "    (5): LeakyReLU(negative_slope=0.2)\n",
      "    (6): Linear(in_features=1024, out_features=784, bias=True)\n",
      "    (7): Tanh()\n",
      "  )\n",
      ")\n",
      "\n",
      "Discriminator architecture:\n",
      " Discriminator(\n",
      "  (disc): Sequential(\n",
      "    (0): Linear(in_features=784, out_features=1024, bias=True)\n",
      "    (1): LeakyReLU(negative_slope=0.2)\n",
      "    (2): Dropout(p=0.3, inplace=False)\n",
      "    (3): Linear(in_features=1024, out_features=512, bias=True)\n",
      "    (4): LeakyReLU(negative_slope=0.2)\n",
      "    (5): Dropout(p=0.3, inplace=False)\n",
      "    (6): Linear(in_features=512, out_features=256, bias=True)\n",
      "    (7): LeakyReLU(negative_slope=0.2)\n",
      "    (8): Dropout(p=0.3, inplace=False)\n",
      "    (9): Linear(in_features=256, out_features=1, bias=True)\n",
      "    (10): Sigmoid()\n",
      "  )\n",
      ")\n"
     ]
    }
   ],
   "source": [
    "import torch.nn as nn\n",
    "\n",
    "# Define the Generator network\n",
    "class Generator(nn.Module):\n",
    "    def __init__(self, z_dim=100):\n",
    "        super(Generator, self).__init__()\n",
    "        self.gen = nn.Sequential(\n",
    "            nn.Linear(z_dim, 256),\n",
    "            nn.LeakyReLU(0.2),\n",
    "            nn.Linear(256, 512),\n",
    "            nn.LeakyReLU(0.2),\n",
    "            nn.Linear(512, 1024),\n",
    "            nn.LeakyReLU(0.2),\n",
    "            nn.Linear(1024, 28*28),\n",
    "            nn.Tanh()\n",
    "        )\n",
    "\n",
    "    def forward(self, x):\n",
    "        x = self.gen(x)\n",
    "        x = x.view(-1, 1, 28, 28)  # Reshape output to image format\n",
    "        return x\n",
    "\n",
    "# Define the Discriminator network\n",
    "class Discriminator(nn.Module):\n",
    "    def __init__(self):\n",
    "        super(Discriminator, self).__init__()\n",
    "        self.disc = nn.Sequential(\n",
    "            nn.Linear(28*28, 1024),\n",
    "            nn.LeakyReLU(0.2),\n",
    "            nn.Dropout(0.3),\n",
    "            nn.Linear(1024, 512),\n",
    "            nn.LeakyReLU(0.2),\n",
    "            nn.Dropout(0.3),\n",
    "            nn.Linear(512, 256),\n",
    "            nn.LeakyReLU(0.2),\n",
    "            nn.Dropout(0.3),\n",
    "            nn.Linear(256, 1),\n",
    "            nn.Sigmoid()\n",
    "        )\n",
    "\n",
    "    def forward(self, x):\n",
    "        x = x.view(-1, 28*28)  # Flatten the image to a vector\n",
    "        return self.disc(x)\n",
    "\n",
    "# Instantiate the models\n",
    "z_dim = 100  # Dimension of the noise vector\n",
    "G = Generator(z_dim)\n",
    "D = Discriminator()\n",
    "\n",
    "# Move models to GPU if available\n",
    "device = torch.device(\"cuda\" if torch.cuda.is_available() else \"cpu\")\n",
    "G.to(device)\n",
    "D.to(device)\n",
    "\n",
    "print(\"Generator architecture:\\n\", G)\n",
    "print(\"\\nDiscriminator architecture:\\n\", D)"
   ]
  },
  {
   "cell_type": "markdown",
   "metadata": {
    "id": "Z_hRY41bCqs8"
   },
   "source": [
    "## Now that we have defined our Discriminator and Generator, the code below does three things:\n",
    "\n",
    "- Define Training Parameters: Set hyperparameters (learning rate, number of epochs), define the loss function, and create optimizers for the generator and discriminator.\n",
    "\n",
    "- Training Loop: Implement the training loop for the GAN. Train the discriminator to distinguish real and fake images, and train the generator to create images that the discriminator classifies as real.\n",
    "\n",
    "- Display Training Progress: Print the discriminator and generator losses at each epoch to monitor training progress."
   ]
  },
  {
   "cell_type": "code",
   "execution_count": null,
   "metadata": {
    "colab": {
     "base_uri": "https://localhost:8080/"
    },
    "id": "KyRdamVASZP4",
    "outputId": "eaeb0c58-d9ac-4e8d-ee58-41ba7fff313f"
   },
   "outputs": [
    {
     "name": "stdout",
     "output_type": "stream",
     "text": [
      "Epoch [1/50] | D Loss: 0.2608 | G Loss: 9.7747\n",
      "Epoch [2/50] | D Loss: 0.6583 | G Loss: 4.7549\n",
      "Epoch [3/50] | D Loss: 0.3493 | G Loss: 2.9355\n",
      "Epoch [4/50] | D Loss: 0.3285 | G Loss: 3.7529\n",
      "Epoch [5/50] | D Loss: 0.4256 | G Loss: 2.8005\n",
      "Epoch [6/50] | D Loss: 0.5528 | G Loss: 2.3990\n",
      "Epoch [7/50] | D Loss: 0.5704 | G Loss: 2.1796\n",
      "Epoch [8/50] | D Loss: 0.4743 | G Loss: 2.5430\n",
      "Epoch [9/50] | D Loss: 0.8884 | G Loss: 1.6265\n",
      "Epoch [10/50] | D Loss: 1.0416 | G Loss: 1.4630\n",
      "Epoch [11/50] | D Loss: 1.1169 | G Loss: 1.4973\n",
      "Epoch [12/50] | D Loss: 0.9298 | G Loss: 1.6677\n",
      "Epoch [13/50] | D Loss: 0.9634 | G Loss: 1.7039\n",
      "Epoch [14/50] | D Loss: 1.2350 | G Loss: 1.1976\n",
      "Epoch [15/50] | D Loss: 0.8607 | G Loss: 1.4963\n",
      "Epoch [16/50] | D Loss: 1.1077 | G Loss: 1.5651\n",
      "Epoch [17/50] | D Loss: 0.7936 | G Loss: 1.5554\n",
      "Epoch [18/50] | D Loss: 1.1919 | G Loss: 1.5316\n",
      "Epoch [19/50] | D Loss: 1.0686 | G Loss: 1.4978\n",
      "Epoch [20/50] | D Loss: 1.3339 | G Loss: 1.2103\n",
      "Epoch [21/50] | D Loss: 1.0928 | G Loss: 0.9441\n",
      "Epoch [22/50] | D Loss: 1.2109 | G Loss: 1.3814\n",
      "Epoch [23/50] | D Loss: 1.1225 | G Loss: 1.1531\n",
      "Epoch [24/50] | D Loss: 0.9767 | G Loss: 1.0615\n",
      "Epoch [25/50] | D Loss: 1.0338 | G Loss: 1.2241\n",
      "Epoch [26/50] | D Loss: 1.1585 | G Loss: 1.1132\n",
      "Epoch [27/50] | D Loss: 1.0163 | G Loss: 1.5025\n",
      "Epoch [28/50] | D Loss: 1.2625 | G Loss: 0.9975\n",
      "Epoch [29/50] | D Loss: 1.1163 | G Loss: 1.3365\n",
      "Epoch [30/50] | D Loss: 1.2267 | G Loss: 0.9519\n",
      "Epoch [31/50] | D Loss: 1.0395 | G Loss: 1.1630\n",
      "Epoch [32/50] | D Loss: 1.3176 | G Loss: 1.0129\n",
      "Epoch [33/50] | D Loss: 1.1971 | G Loss: 0.9287\n",
      "Epoch [34/50] | D Loss: 1.1599 | G Loss: 1.0074\n",
      "Epoch [35/50] | D Loss: 1.2043 | G Loss: 1.4153\n",
      "Epoch [36/50] | D Loss: 1.1060 | G Loss: 1.3023\n",
      "Epoch [37/50] | D Loss: 1.1149 | G Loss: 1.2824\n",
      "Epoch [38/50] | D Loss: 1.3177 | G Loss: 0.8859\n",
      "Epoch [39/50] | D Loss: 1.0318 | G Loss: 1.0436\n",
      "Epoch [40/50] | D Loss: 1.1075 | G Loss: 1.2242\n",
      "Epoch [41/50] | D Loss: 1.1625 | G Loss: 0.9212\n",
      "Epoch [42/50] | D Loss: 1.3231 | G Loss: 0.7527\n",
      "Epoch [43/50] | D Loss: 1.2088 | G Loss: 1.1375\n",
      "Epoch [44/50] | D Loss: 1.3959 | G Loss: 0.9600\n",
      "Epoch [45/50] | D Loss: 0.9981 | G Loss: 1.1421\n",
      "Epoch [46/50] | D Loss: 1.3968 | G Loss: 0.8788\n",
      "Epoch [47/50] | D Loss: 1.1832 | G Loss: 1.1658\n",
      "Epoch [48/50] | D Loss: 1.2682 | G Loss: 1.0114\n",
      "Epoch [49/50] | D Loss: 1.1837 | G Loss: 0.9301\n",
      "Epoch [50/50] | D Loss: 1.2255 | G Loss: 0.9128\n"
     ]
    }
   ],
   "source": [
    "import torch.optim as optim\n",
    "\n",
    "# Hyperparameters\n",
    "lr = 0.0002\n",
    "num_epochs = 50  # Adjust as needed for better results\n",
    "\n",
    "# Loss function\n",
    "criterion = nn.BCELoss()\n",
    "\n",
    "# Optimizers\n",
    "optimizerD = optim.Adam(D.parameters(), lr=lr)\n",
    "optimizerG = optim.Adam(G.parameters(), lr=lr)\n",
    "\n",
    "# Training loop\n",
    "for epoch in range(num_epochs):\n",
    "    for batch_idx, (real_images, _) in enumerate(train_loader):\n",
    "\n",
    "        # Move real images to the device\n",
    "        real_images = real_images.to(device)\n",
    "        batch_size = real_images.size(0)\n",
    "        real_images = real_images.view(batch_size, -1)  # Flatten\n",
    "\n",
    "        ### Train Discriminator ###\n",
    "        D.zero_grad()\n",
    "\n",
    "        # Real images\n",
    "        labels_real = torch.ones(batch_size, 1).to(device)\n",
    "        output_real = D(real_images)\n",
    "        lossD_real = criterion(output_real, labels_real)\n",
    "\n",
    "        # Fake images\n",
    "        noise = torch.randn(batch_size, z_dim).to(device)\n",
    "        fake_images = G(noise)\n",
    "        labels_fake = torch.zeros(batch_size, 1).to(device)\n",
    "        output_fake = D(fake_images.detach())  # Detach to avoid training G on these labels\n",
    "        lossD_fake = criterion(output_fake, labels_fake)\n",
    "\n",
    "        # Total discriminator loss\n",
    "        lossD = lossD_real + lossD_fake\n",
    "        lossD.backward()\n",
    "        optimizerD.step()\n",
    "\n",
    "        ### Train Generator ###\n",
    "        G.zero_grad()\n",
    "\n",
    "        # Generate fake images with flipped labels\n",
    "        labels_gen = torch.ones(batch_size, 1).to(device)\n",
    "        output_gen = D(fake_images)\n",
    "        lossG = criterion(output_gen, labels_gen)\n",
    "\n",
    "        lossG.backward()\n",
    "        optimizerG.step()\n",
    "\n",
    "    print(f'Epoch [{epoch+1}/{num_epochs}] | D Loss: {lossD.item():.4f} | G Loss: {lossG.item():.4f}')"
   ]
  },
  {
   "cell_type": "markdown",
   "metadata": {
    "id": "7nqnNzrHC3U_"
   },
   "source": [
    "## Let's define a function to generate and display images from the trained generator using random noise as input."
   ]
  },
  {
   "cell_type": "code",
   "execution_count": null,
   "metadata": {
    "colab": {
     "base_uri": "https://localhost:8080/",
     "height": 653
    },
    "id": "1vJVujdySuaR",
    "outputId": "2e8cffca-a76e-4240-d5f1-53dff5cc9871"
   },
   "outputs": [
    {
     "data": {
      "image/png": "[encoded data removed]",
      "text/plain": [
       "<Figure size 800x800 with 16 Axes>"
      ]
     },
     "metadata": {},
     "output_type": "display_data"
    }
   ],
   "source": [
    "import matplotlib.pyplot as plt\n",
    "import torch\n",
    "\n",
    "# Function to generate and display images from the generator\n",
    "def generate_images(generator, num_images=16, z_dim=100):\n",
    "    generator.eval()  # Set the generator to evaluation mode\n",
    "\n",
    "    # Generate random noise and create images\n",
    "    noise = torch.randn(num_images, z_dim).to(device)\n",
    "    with torch.no_grad():\n",
    "        fake_images = generator(noise)\n",
    "    fake_images = fake_images.cpu().view(-1, 28, 28)  # Reshape to 28x28\n",
    "\n",
    "    # Plot generated images in a grid\n",
    "    fig, axes = plt.subplots(4, 4, figsize=(8, 8))\n",
    "    for i in range(num_images):\n",
    "        ax = axes[i // 4, i % 4]\n",
    "        ax.imshow(fake_images[i], cmap='gray')\n",
    "        ax.axis('off')\n",
    "    plt.show()\n",
    "\n",
    "# Generate and visualize images\n",
    "generate_images(G)\n"
   ]
  },
  {
   "cell_type": "markdown",
   "metadata": {
    "id": "kZiSmN72WuKm"
   },
   "source": [
    "The generated images look recognizable and resemble handwritten digits, which is a good outcome for a simple GAN architecture trained on MNIST. Here’s an analysis of the results:\n",
    "\n",
    "Clarity of Digits: Many of the images are clear enough to be identifiable as specific digits. This suggests that the generator has learned basic MNIST characteristics.\n",
    "Noise and Artifacts: Some images show slight noise or artifacts, which is typical for simple GANs. The fully connected layers may not capture spatial relationships as effectively as convolutional layers, which could reduce sharpness.\n",
    "Diversity: The generator is producing a mix of different digits, indicating that it has learned some variability rather than producing a single digit repeatedly (which can happen with GANs experiencing mode collapse).\n",
    "Overall, these results demonstrate that the GAN has successfully learned to generate digit-like images, which is impressive given the simple architecture and relatively short training time.\n",
    "\n"
   ]
  },
  {
   "cell_type": "code",
   "execution_count": null,
   "metadata": {
    "id": "GIvrMY13WaH6"
   },
   "outputs": [],
   "source": [
    "# Save the generator's state_dict to Google Drive\n",
    "torch.save(G.state_dict(), '/content/drive/MyDrive/generator_mnist.pth')\n"
   ]
  },
  {
   "cell_type": "code",
   "execution_count": null,
   "metadata": {
    "colab": {
     "base_uri": "https://localhost:8080/"
    },
    "id": "NwM9FMzfW5ug",
    "outputId": "f6547779-e190-4d3c-a075-815db577112f"
   },
   "outputs": [
    {
     "name": "stderr",
     "output_type": "stream",
     "text": [
      "<ipython-input-8-fb691638a239>:2: FutureWarning: You are using `torch.load` with `weights_only=False` (the current default value), which uses the default pickle module implicitly. It is possible to construct malicious pickle data which will execute arbitrary code during unpickling (See https://github.com/pytorch/pytorch/blob/main/SECURITY.md#untrusted-models for more details). In a future release, the default value for `weights_only` will be flipped to `True`. This limits the functions that could be executed during unpickling. Arbitrary objects will no longer be allowed to be loaded via this mode unless they are explicitly allowlisted by the user via `torch.serialization.add_safe_globals`. We recommend you start setting `weights_only=True` for any use case where you don't have full control of the loaded file. Please open an issue on GitHub for any issues related to this experimental feature.\n",
      "  G.load_state_dict(torch.load('/content/drive/MyDrive/generator_mnist.pth'))\n"
     ]
    },
    {
     "data": {
      "text/plain": [
       "Generator(\n",
       "  (gen): Sequential(\n",
       "    (0): Linear(in_features=100, out_features=256, bias=True)\n",
       "    (1): LeakyReLU(negative_slope=0.2)\n",
       "    (2): Linear(in_features=256, out_features=512, bias=True)\n",
       "    (3): LeakyReLU(negative_slope=0.2)\n",
       "    (4): Linear(in_features=512, out_features=1024, bias=True)\n",
       "    (5): LeakyReLU(negative_slope=0.2)\n",
       "    (6): Linear(in_features=1024, out_features=784, bias=True)\n",
       "    (7): Tanh()\n",
       "  )\n",
       ")"
      ]
     },
     "execution_count": 8,
     "metadata": {},
     "output_type": "execute_result"
    }
   ],
   "source": [
    "G = Generator(z_dim=100).to(device)\n",
    "G.load_state_dict(torch.load('/content/drive/MyDrive/generator_mnist.pth'))\n",
    "G.eval()  # Set to evaluation mode for generating images"
   ]
  },
  {
   "cell_type": "code",
   "execution_count": null,
   "metadata": {
    "colab": {
     "base_uri": "https://localhost:8080/",
     "height": 653
    },
    "id": "zE3cWhbLXX7p",
    "outputId": "eca9b257-4dbf-489c-a315-c830768d26b7"
   },
   "outputs": [
    {
     "data": {
      "image/png": "[encoded data removed]",
      "text/plain": [
       "<Figure size 800x800 with 16 Axes>"
      ]
     },
     "metadata": {},
     "output_type": "display_data"
    }
   ],
   "source": [
    "generate_images(G)"
   ]
  },
  {
   "cell_type": "markdown",
   "metadata": {
    "id": "2u4u5PFbE6vY"
   },
   "source": [
    "# Improving GAN Stability and Performance\n",
    "\n",
    "GANs are known for being challenging to train, often suffering from instability, mode collapse, and sensitivity to hyperparameters. Below are some general recommendations to improve GAN stability and achieve better results.\n",
    "\n",
    "## General Recommendations for Improving GAN Stability and Performance\n",
    "\n",
    "1. **Use Convolutional Architectures**:\n",
    "   - Switch from fully connected layers to convolutional layers, especially for image data, to better capture spatial structure and improve image quality.\n",
    "\n",
    "2. **Add Noise to Training Data**:\n",
    "   - Adding random noise to real or fake images can help prevent the discriminator from becoming overly confident and improve generalization.\n",
    "\n",
    "3. **Label Smoothing**:\n",
    "   - Use \"soft\" labels for the discriminator (e.g., 0.9 for real images instead of 1.0) to make the discriminator less overconfident, which can stabilize training.\n",
    "\n",
    "4. **Experiment with Different Latent Space Dimensions**:\n",
    "   - Increasing or decreasing the noise vector dimension (e.g., 100 to 50 or 200) can impact the diversity and quality of generated images.\n",
    "\n",
    "5. **Learning Rate Adjustments**:\n",
    "   - Use a lower learning rate for the generator than the discriminator to help the generator learn more stably and reduce oscillations.\n",
    "\n",
    "6. **Use Gradient Clipping**:\n",
    "   - Limit the magnitude of gradients during training to prevent large, destabilizing updates that could harm the model's convergence.\n",
    "\n",
    "7. **Alternative Loss Functions**:\n",
    "   - Experiment with different GAN losses (e.g., Wasserstein loss with gradient penalty or Least-Squares GAN loss) to help improve stability and reduce mode collapse.\n",
    "\n",
    "8. **Add Dropout Layers**:\n",
    "   - In the discriminator, adding dropout layers can help prevent overfitting, making it harder for the discriminator to be overly confident.\n",
    "\n",
    "9. **Spectral Normalization**:\n",
    "   - Apply spectral normalization to the discriminator’s layers to ensure consistent gradient flow, which can improve GAN stability.\n",
    "\n",
    "10. **Avoid Mode Collapse by Using Mini-batch Discrimination**:\n",
    "    - A technique where the discriminator looks at the diversity within a batch, encouraging the generator to produce more varied outputs.\n",
    "\n",
    "---\n",
    "\n",
    "## Student Experiment Recommendations\n",
    "\n",
    "In this lab, I recommend you to explore two tasks that enhance GAN performance and stability. These tasks are straightforward to implement but demonstrate the effects of different architectures and hyperparameters on GAN training.\n",
    "\n",
    "### 1. Experiment with Different Noise Dimensions\n",
    "\n",
    "   - **Objective**: Explore how changing the dimension of the input noise vector (latent space) affects the diversity and quality of generated images.\n",
    "   - **Instructions**: Try using different values for the `z_dim` parameter in the generator, such as:\n",
    "     - **Original**: 100\n",
    "     - **Smaller**: 50\n",
    "     - **Larger**: 200\n",
    "   - **Expected Outcome**:\n",
    "     - Smaller noise dimensions may lead to less diversity in the generated images, as the generator has less information to work with.\n",
    "     - Larger noise dimensions can increase diversity, but it may also increase training time or introduce artifacts if the dimension is too large.\n",
    "\n",
    "### 2. Change the Architecture to a CNN-Based GAN\n",
    "\n",
    "   - **Objective**: Redesign the generator and discriminator using convolutional layers, creating a CNN-based GAN architecture similar to DCGAN.\n",
    "   - **Instructions**:\n",
    "     - Replace fully connected layers in both the generator and discriminator with convolutional (Conv2D) and transposed convolutional (ConvTranspose2D) layers.\n",
    "     - Use batch normalization and activation functions like ReLU (for generator) and LeakyReLU (for discriminator) to improve gradient flow.\n",
    "   - **Expected Outcome**:\n",
    "     - Convolutional architectures can produce more visually appealing and higher-quality images by better capturing the spatial structure of images.\n",
    "   - **Tips**:\n",
    "     - In the generator, start with a small spatial size and increase with ConvTranspose2D layers.\n",
    "     - In the discriminator, start with the full image size and decrease through Conv2D layers, using LeakyReLU activations.\n",
    "\n",
    "---\n",
    "\n",
    "These experiments should provide you with hands-on experience in enhancing GAN stability and performance while observing the effects of different architectural choices and hyperparameter tuning. Have fun experimenting and seeing how each change impacts the quality of generated images!\n"
   ]
  },
  {
   "cell_type": "code",
   "execution_count": null,
   "metadata": {
    "id": "bC8JcgX-Xc3s"
   },
   "outputs": [],
   "source": []
  }
 ],
 "metadata": {
  "accelerator": "GPU",
  "colab": {
   "gpuType": "T4",
   "provenance": []
  },
  "kernelspec": {
   "display_name": "Python 3 (ipykernel)",
   "language": "python",
   "name": "python3"
  },
  "language_info": {
   "codemirror_mode": {
    "name": "ipython",
    "version": 3
   },
   "file_extension": ".py",
   "mimetype": "text/x-python",
   "name": "python",
   "nbconvert_exporter": "python",
   "pygments_lexer": "ipython3",
   "version": "3.11.5"
  }
 },
 "nbformat": 4,
 "nbformat_minor": 1
}
