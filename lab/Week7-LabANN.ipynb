{
 "cells": [
  {
   "cell_type": "markdown",
   "id": "f9515046",
   "metadata": {},
   "source": [
    "# Deep Neural Networks (DNNs)\n",
    "\n",
    "### Objectives:\n",
    "- Recall some important concepts about DNNs \n",
    "- Using DNNs to solve a real-life classification problem in the banking industry\n",
    "- Use of PyTorch's custom modules to define the network architecture and train the model\n",
    "- Exploration of error analysis to improve the model performance\n"
   ]
  },
  {
   "cell_type": "markdown",
   "id": "e0ed4a58",
   "metadata": {},
   "source": [
    "### Recall of Important Concepts\n",
    "\n",
    "Artificial neural nets consists of dense layers and activations.\n",
    "\n",
    "1. What's the difference between deep learning and normal machine learning?\n",
    "<span style=\"color:blue\"> 1- After a certain point, adding more data for traditional ML algorithms won't improve\n",
    "\t  the performance and the learning curve will saturate (plateau), but for DL, you can generally get better performance by providing more training data.\n",
    "\t<br/>2- There's generally no handcrafted feature extraction step in DNNs.\n",
    "\t<br/>3- DNNs need high computational power for training.\n",
    "    \n",
    "2. How does a neural network with no hidden layers and one output neuron compare to a logistic/linear regression?\n",
    "<span style=\"color:blue\"> There's no difference. NN with no hidden layers is perceptron which has the same architecture of logistic/linear regression. If the activation function in the output layer is linear and loss is mse then it is linear regression. If the activation function in the output layer is sigmoid and the loss is the logloss then it is logistic regression.\n",
    "    \n",
    "3. In multi-hidden layers network, what's the need of non-linear activation function?\n",
    "<span style=\"color:blue\"> To capture the non linear patterns in the relation between the input and the output, and represent it as non-linear features.\n",
    "    \n",
    "6. Is random weight assignment better than assigning same weights to the units in the hidden layer.\n",
    "<span style=\"color:blue\"> Yes, because random initialization helps to break symmetry in the network and promote diversity in the learning of each neuron, leading to better optimization and reducing the risk of getting stuck in suboptimal solutions. Using the same weight values across all neurons can result in the network making the same mistakes, leading to poor performance.\n",
    "---"
   ]
  },
  {
   "cell_type": "markdown",
   "id": "1b91dc5a",
   "metadata": {},
   "source": [
    "## Solving a Classification problem using DNNs"
   ]
  },
  {
   "cell_type": "markdown",
   "id": "f97a1803",
   "metadata": {},
   "source": [
    "In the following sections, we will solve a classification task related to credit card payments using the Default of Credit Card Clients dataset. We will use this data to build a model that is able to determine whether a new client will default on the upcoming payment or not, thus we are solving a binary classification problem."
   ]
  },
  {
   "cell_type": "code",
   "execution_count": 1,
   "id": "5dc67523",
   "metadata": {},
   "outputs": [
    {
     "name": "stdout",
     "output_type": "stream",
     "text": [
      "Requirement already satisfied: xlrd in /Users/adilmehmoodkhan/opt/anaconda3/lib/python3.8/site-packages (2.0.1)\n",
      "Note: you may need to restart the kernel to use updated packages.\n"
     ]
    }
   ],
   "source": [
    "pip install xlrd"
   ]
  },
  {
   "cell_type": "markdown",
   "id": "5932f44b",
   "metadata": {},
   "source": [
    "## Loading and Preparing the Dataset"
   ]
  },
  {
   "cell_type": "markdown",
   "id": "d89389b7",
   "metadata": {},
   "source": [
    "Loading the data and printing the head of the dataset. It will be a good idea to read the documentation of read_excel function at https://pandas.pydata.org/docs/reference/api/pandas.read_excel.html"
   ]
  },
  {
   "cell_type": "code",
   "execution_count": 2,
   "id": "bbf0d482",
   "metadata": {},
   "outputs": [
    {
     "data": {
      "text/html": [
       "<div>\n",
       "<style scoped>\n",
       "    .dataframe tbody tr th:only-of-type {\n",
       "        vertical-align: middle;\n",
       "    }\n",
       "\n",
       "    .dataframe tbody tr th {\n",
       "        vertical-align: top;\n",
       "    }\n",
       "\n",
       "    .dataframe thead th {\n",
       "        text-align: right;\n",
       "    }\n",
       "</style>\n",
       "<table border=\"1\" class=\"dataframe\">\n",
       "  <thead>\n",
       "    <tr style=\"text-align: right;\">\n",
       "      <th></th>\n",
       "      <th>ID</th>\n",
       "      <th>LIMIT_BAL</th>\n",
       "      <th>SEX</th>\n",
       "      <th>EDUCATION</th>\n",
       "      <th>MARRIAGE</th>\n",
       "      <th>AGE</th>\n",
       "      <th>PAY_0</th>\n",
       "      <th>PAY_2</th>\n",
       "      <th>PAY_3</th>\n",
       "      <th>PAY_4</th>\n",
       "      <th>...</th>\n",
       "      <th>BILL_AMT4</th>\n",
       "      <th>BILL_AMT5</th>\n",
       "      <th>BILL_AMT6</th>\n",
       "      <th>PAY_AMT1</th>\n",
       "      <th>PAY_AMT2</th>\n",
       "      <th>PAY_AMT3</th>\n",
       "      <th>PAY_AMT4</th>\n",
       "      <th>PAY_AMT5</th>\n",
       "      <th>PAY_AMT6</th>\n",
       "      <th>default payment next month</th>\n",
       "    </tr>\n",
       "  </thead>\n",
       "  <tbody>\n",
       "    <tr>\n",
       "      <th>0</th>\n",
       "      <td>1</td>\n",
       "      <td>20000</td>\n",
       "      <td>2</td>\n",
       "      <td>2</td>\n",
       "      <td>1</td>\n",
       "      <td>24</td>\n",
       "      <td>2</td>\n",
       "      <td>2</td>\n",
       "      <td>-1</td>\n",
       "      <td>-1</td>\n",
       "      <td>...</td>\n",
       "      <td>0</td>\n",
       "      <td>0</td>\n",
       "      <td>0</td>\n",
       "      <td>0</td>\n",
       "      <td>689</td>\n",
       "      <td>0</td>\n",
       "      <td>0</td>\n",
       "      <td>0</td>\n",
       "      <td>0</td>\n",
       "      <td>1</td>\n",
       "    </tr>\n",
       "    <tr>\n",
       "      <th>1</th>\n",
       "      <td>2</td>\n",
       "      <td>120000</td>\n",
       "      <td>2</td>\n",
       "      <td>2</td>\n",
       "      <td>2</td>\n",
       "      <td>26</td>\n",
       "      <td>-1</td>\n",
       "      <td>2</td>\n",
       "      <td>0</td>\n",
       "      <td>0</td>\n",
       "      <td>...</td>\n",
       "      <td>3272</td>\n",
       "      <td>3455</td>\n",
       "      <td>3261</td>\n",
       "      <td>0</td>\n",
       "      <td>1000</td>\n",
       "      <td>1000</td>\n",
       "      <td>1000</td>\n",
       "      <td>0</td>\n",
       "      <td>2000</td>\n",
       "      <td>1</td>\n",
       "    </tr>\n",
       "    <tr>\n",
       "      <th>2</th>\n",
       "      <td>3</td>\n",
       "      <td>90000</td>\n",
       "      <td>2</td>\n",
       "      <td>2</td>\n",
       "      <td>2</td>\n",
       "      <td>34</td>\n",
       "      <td>0</td>\n",
       "      <td>0</td>\n",
       "      <td>0</td>\n",
       "      <td>0</td>\n",
       "      <td>...</td>\n",
       "      <td>14331</td>\n",
       "      <td>14948</td>\n",
       "      <td>15549</td>\n",
       "      <td>1518</td>\n",
       "      <td>1500</td>\n",
       "      <td>1000</td>\n",
       "      <td>1000</td>\n",
       "      <td>1000</td>\n",
       "      <td>5000</td>\n",
       "      <td>0</td>\n",
       "    </tr>\n",
       "    <tr>\n",
       "      <th>3</th>\n",
       "      <td>4</td>\n",
       "      <td>50000</td>\n",
       "      <td>2</td>\n",
       "      <td>2</td>\n",
       "      <td>1</td>\n",
       "      <td>37</td>\n",
       "      <td>0</td>\n",
       "      <td>0</td>\n",
       "      <td>0</td>\n",
       "      <td>0</td>\n",
       "      <td>...</td>\n",
       "      <td>28314</td>\n",
       "      <td>28959</td>\n",
       "      <td>29547</td>\n",
       "      <td>2000</td>\n",
       "      <td>2019</td>\n",
       "      <td>1200</td>\n",
       "      <td>1100</td>\n",
       "      <td>1069</td>\n",
       "      <td>1000</td>\n",
       "      <td>0</td>\n",
       "    </tr>\n",
       "    <tr>\n",
       "      <th>4</th>\n",
       "      <td>5</td>\n",
       "      <td>50000</td>\n",
       "      <td>1</td>\n",
       "      <td>2</td>\n",
       "      <td>1</td>\n",
       "      <td>57</td>\n",
       "      <td>-1</td>\n",
       "      <td>0</td>\n",
       "      <td>-1</td>\n",
       "      <td>0</td>\n",
       "      <td>...</td>\n",
       "      <td>20940</td>\n",
       "      <td>19146</td>\n",
       "      <td>19131</td>\n",
       "      <td>2000</td>\n",
       "      <td>36681</td>\n",
       "      <td>10000</td>\n",
       "      <td>9000</td>\n",
       "      <td>689</td>\n",
       "      <td>679</td>\n",
       "      <td>0</td>\n",
       "    </tr>\n",
       "  </tbody>\n",
       "</table>\n",
       "<p>5 rows × 25 columns</p>\n",
       "</div>"
      ],
      "text/plain": [
       "   ID  LIMIT_BAL  SEX  EDUCATION  MARRIAGE  AGE  PAY_0  PAY_2  PAY_3  PAY_4  \\\n",
       "0   1      20000    2          2         1   24      2      2     -1     -1   \n",
       "1   2     120000    2          2         2   26     -1      2      0      0   \n",
       "2   3      90000    2          2         2   34      0      0      0      0   \n",
       "3   4      50000    2          2         1   37      0      0      0      0   \n",
       "4   5      50000    1          2         1   57     -1      0     -1      0   \n",
       "\n",
       "   ...  BILL_AMT4  BILL_AMT5  BILL_AMT6  PAY_AMT1  PAY_AMT2  PAY_AMT3  \\\n",
       "0  ...          0          0          0         0       689         0   \n",
       "1  ...       3272       3455       3261         0      1000      1000   \n",
       "2  ...      14331      14948      15549      1518      1500      1000   \n",
       "3  ...      28314      28959      29547      2000      2019      1200   \n",
       "4  ...      20940      19146      19131      2000     36681     10000   \n",
       "\n",
       "   PAY_AMT4  PAY_AMT5  PAY_AMT6  default payment next month  \n",
       "0         0         0         0                           1  \n",
       "1      1000         0      2000                           1  \n",
       "2      1000      1000      5000                           0  \n",
       "3      1100      1069      1000                           0  \n",
       "4      9000       689       679                           0  \n",
       "\n",
       "[5 rows x 25 columns]"
      ]
     },
     "execution_count": 2,
     "metadata": {},
     "output_type": "execute_result"
    }
   ],
   "source": [
    "import pandas as pd\n",
    "\n",
    "data = pd.read_excel(\"default of credit card clients.xls\", \\\n",
    "                     skiprows=1)\n",
    "data.head()"
   ]
  },
  {
   "cell_type": "markdown",
   "id": "ff4c3e62",
   "metadata": {},
   "source": [
    "The shape of the dataset is 30,000 rows and 25 columns, which can be obtained using the following line of code:"
   ]
  },
  {
   "cell_type": "code",
   "execution_count": 3,
   "id": "1d6ab098",
   "metadata": {},
   "outputs": [
    {
     "name": "stdout",
     "output_type": "stream",
     "text": [
      "rows: 30000  columns: 25\n"
     ]
    }
   ],
   "source": [
    "print(\"rows:\",data.shape[0],\" columns:\", data.shape[1])"
   ]
  },
  {
   "cell_type": "markdown",
   "id": "ea7b5638",
   "metadata": {},
   "source": [
    "As we learned earlier in the semester, sometimes our data might contain irrelevant features which can be removed before model training. For example, in our classification problem the features ID and Sex can be considered as irrelevant and we can remove them as follows"
   ]
  },
  {
   "cell_type": "code",
   "execution_count": 4,
   "id": "3b6e5219",
   "metadata": {
    "scrolled": true
   },
   "outputs": [
    {
     "data": {
      "text/html": [
       "<div>\n",
       "<style scoped>\n",
       "    .dataframe tbody tr th:only-of-type {\n",
       "        vertical-align: middle;\n",
       "    }\n",
       "\n",
       "    .dataframe tbody tr th {\n",
       "        vertical-align: top;\n",
       "    }\n",
       "\n",
       "    .dataframe thead th {\n",
       "        text-align: right;\n",
       "    }\n",
       "</style>\n",
       "<table border=\"1\" class=\"dataframe\">\n",
       "  <thead>\n",
       "    <tr style=\"text-align: right;\">\n",
       "      <th></th>\n",
       "      <th>LIMIT_BAL</th>\n",
       "      <th>EDUCATION</th>\n",
       "      <th>MARRIAGE</th>\n",
       "      <th>AGE</th>\n",
       "      <th>PAY_0</th>\n",
       "      <th>PAY_2</th>\n",
       "      <th>PAY_3</th>\n",
       "      <th>PAY_4</th>\n",
       "      <th>PAY_5</th>\n",
       "      <th>PAY_6</th>\n",
       "      <th>...</th>\n",
       "      <th>BILL_AMT4</th>\n",
       "      <th>BILL_AMT5</th>\n",
       "      <th>BILL_AMT6</th>\n",
       "      <th>PAY_AMT1</th>\n",
       "      <th>PAY_AMT2</th>\n",
       "      <th>PAY_AMT3</th>\n",
       "      <th>PAY_AMT4</th>\n",
       "      <th>PAY_AMT5</th>\n",
       "      <th>PAY_AMT6</th>\n",
       "      <th>default payment next month</th>\n",
       "    </tr>\n",
       "  </thead>\n",
       "  <tbody>\n",
       "    <tr>\n",
       "      <th>0</th>\n",
       "      <td>20000</td>\n",
       "      <td>2</td>\n",
       "      <td>1</td>\n",
       "      <td>24</td>\n",
       "      <td>2</td>\n",
       "      <td>2</td>\n",
       "      <td>-1</td>\n",
       "      <td>-1</td>\n",
       "      <td>-2</td>\n",
       "      <td>-2</td>\n",
       "      <td>...</td>\n",
       "      <td>0</td>\n",
       "      <td>0</td>\n",
       "      <td>0</td>\n",
       "      <td>0</td>\n",
       "      <td>689</td>\n",
       "      <td>0</td>\n",
       "      <td>0</td>\n",
       "      <td>0</td>\n",
       "      <td>0</td>\n",
       "      <td>1</td>\n",
       "    </tr>\n",
       "    <tr>\n",
       "      <th>1</th>\n",
       "      <td>120000</td>\n",
       "      <td>2</td>\n",
       "      <td>2</td>\n",
       "      <td>26</td>\n",
       "      <td>-1</td>\n",
       "      <td>2</td>\n",
       "      <td>0</td>\n",
       "      <td>0</td>\n",
       "      <td>0</td>\n",
       "      <td>2</td>\n",
       "      <td>...</td>\n",
       "      <td>3272</td>\n",
       "      <td>3455</td>\n",
       "      <td>3261</td>\n",
       "      <td>0</td>\n",
       "      <td>1000</td>\n",
       "      <td>1000</td>\n",
       "      <td>1000</td>\n",
       "      <td>0</td>\n",
       "      <td>2000</td>\n",
       "      <td>1</td>\n",
       "    </tr>\n",
       "    <tr>\n",
       "      <th>2</th>\n",
       "      <td>90000</td>\n",
       "      <td>2</td>\n",
       "      <td>2</td>\n",
       "      <td>34</td>\n",
       "      <td>0</td>\n",
       "      <td>0</td>\n",
       "      <td>0</td>\n",
       "      <td>0</td>\n",
       "      <td>0</td>\n",
       "      <td>0</td>\n",
       "      <td>...</td>\n",
       "      <td>14331</td>\n",
       "      <td>14948</td>\n",
       "      <td>15549</td>\n",
       "      <td>1518</td>\n",
       "      <td>1500</td>\n",
       "      <td>1000</td>\n",
       "      <td>1000</td>\n",
       "      <td>1000</td>\n",
       "      <td>5000</td>\n",
       "      <td>0</td>\n",
       "    </tr>\n",
       "    <tr>\n",
       "      <th>3</th>\n",
       "      <td>50000</td>\n",
       "      <td>2</td>\n",
       "      <td>1</td>\n",
       "      <td>37</td>\n",
       "      <td>0</td>\n",
       "      <td>0</td>\n",
       "      <td>0</td>\n",
       "      <td>0</td>\n",
       "      <td>0</td>\n",
       "      <td>0</td>\n",
       "      <td>...</td>\n",
       "      <td>28314</td>\n",
       "      <td>28959</td>\n",
       "      <td>29547</td>\n",
       "      <td>2000</td>\n",
       "      <td>2019</td>\n",
       "      <td>1200</td>\n",
       "      <td>1100</td>\n",
       "      <td>1069</td>\n",
       "      <td>1000</td>\n",
       "      <td>0</td>\n",
       "    </tr>\n",
       "    <tr>\n",
       "      <th>4</th>\n",
       "      <td>50000</td>\n",
       "      <td>2</td>\n",
       "      <td>1</td>\n",
       "      <td>57</td>\n",
       "      <td>-1</td>\n",
       "      <td>0</td>\n",
       "      <td>-1</td>\n",
       "      <td>0</td>\n",
       "      <td>0</td>\n",
       "      <td>0</td>\n",
       "      <td>...</td>\n",
       "      <td>20940</td>\n",
       "      <td>19146</td>\n",
       "      <td>19131</td>\n",
       "      <td>2000</td>\n",
       "      <td>36681</td>\n",
       "      <td>10000</td>\n",
       "      <td>9000</td>\n",
       "      <td>689</td>\n",
       "      <td>679</td>\n",
       "      <td>0</td>\n",
       "    </tr>\n",
       "  </tbody>\n",
       "</table>\n",
       "<p>5 rows × 23 columns</p>\n",
       "</div>"
      ],
      "text/plain": [
       "   LIMIT_BAL  EDUCATION  MARRIAGE  AGE  PAY_0  PAY_2  PAY_3  PAY_4  PAY_5  \\\n",
       "0      20000          2         1   24      2      2     -1     -1     -2   \n",
       "1     120000          2         2   26     -1      2      0      0      0   \n",
       "2      90000          2         2   34      0      0      0      0      0   \n",
       "3      50000          2         1   37      0      0      0      0      0   \n",
       "4      50000          2         1   57     -1      0     -1      0      0   \n",
       "\n",
       "   PAY_6  ...  BILL_AMT4  BILL_AMT5  BILL_AMT6  PAY_AMT1  PAY_AMT2  PAY_AMT3  \\\n",
       "0     -2  ...          0          0          0         0       689         0   \n",
       "1      2  ...       3272       3455       3261         0      1000      1000   \n",
       "2      0  ...      14331      14948      15549      1518      1500      1000   \n",
       "3      0  ...      28314      28959      29547      2000      2019      1200   \n",
       "4      0  ...      20940      19146      19131      2000     36681     10000   \n",
       "\n",
       "   PAY_AMT4  PAY_AMT5  PAY_AMT6  default payment next month  \n",
       "0         0         0         0                           1  \n",
       "1      1000         0      2000                           1  \n",
       "2      1000      1000      5000                           0  \n",
       "3      1100      1069      1000                           0  \n",
       "4      9000       689       679                           0  \n",
       "\n",
       "[5 rows x 23 columns]"
      ]
     },
     "execution_count": 4,
     "metadata": {},
     "output_type": "execute_result"
    }
   ],
   "source": [
    "data_clean = data.drop(columns=[\"ID\", \"SEX\"])\n",
    "data_clean.head()"
   ]
  },
  {
   "cell_type": "markdown",
   "id": "0eacb93e",
   "metadata": {},
   "source": [
    "Let's check if our data has any missing values."
   ]
  },
  {
   "cell_type": "code",
   "execution_count": 5,
   "id": "24fc6f90",
   "metadata": {},
   "outputs": [
    {
     "data": {
      "text/html": [
       "<div>\n",
       "<style scoped>\n",
       "    .dataframe tbody tr th:only-of-type {\n",
       "        vertical-align: middle;\n",
       "    }\n",
       "\n",
       "    .dataframe tbody tr th {\n",
       "        vertical-align: top;\n",
       "    }\n",
       "\n",
       "    .dataframe thead th {\n",
       "        text-align: right;\n",
       "    }\n",
       "</style>\n",
       "<table border=\"1\" class=\"dataframe\">\n",
       "  <thead>\n",
       "    <tr style=\"text-align: right;\">\n",
       "      <th></th>\n",
       "      <th>LIMIT_BAL</th>\n",
       "      <th>EDUCATION</th>\n",
       "      <th>MARRIAGE</th>\n",
       "      <th>AGE</th>\n",
       "      <th>PAY_0</th>\n",
       "      <th>PAY_2</th>\n",
       "      <th>PAY_3</th>\n",
       "      <th>PAY_4</th>\n",
       "      <th>PAY_5</th>\n",
       "      <th>PAY_6</th>\n",
       "      <th>...</th>\n",
       "      <th>BILL_AMT4</th>\n",
       "      <th>BILL_AMT5</th>\n",
       "      <th>BILL_AMT6</th>\n",
       "      <th>PAY_AMT1</th>\n",
       "      <th>PAY_AMT2</th>\n",
       "      <th>PAY_AMT3</th>\n",
       "      <th>PAY_AMT4</th>\n",
       "      <th>PAY_AMT5</th>\n",
       "      <th>PAY_AMT6</th>\n",
       "      <th>default payment next month</th>\n",
       "    </tr>\n",
       "  </thead>\n",
       "  <tbody>\n",
       "    <tr>\n",
       "      <th>Total</th>\n",
       "      <td>0.0</td>\n",
       "      <td>0.0</td>\n",
       "      <td>0.0</td>\n",
       "      <td>0.0</td>\n",
       "      <td>0.0</td>\n",
       "      <td>0.0</td>\n",
       "      <td>0.0</td>\n",
       "      <td>0.0</td>\n",
       "      <td>0.0</td>\n",
       "      <td>0.0</td>\n",
       "      <td>...</td>\n",
       "      <td>0.0</td>\n",
       "      <td>0.0</td>\n",
       "      <td>0.0</td>\n",
       "      <td>0.0</td>\n",
       "      <td>0.0</td>\n",
       "      <td>0.0</td>\n",
       "      <td>0.0</td>\n",
       "      <td>0.0</td>\n",
       "      <td>0.0</td>\n",
       "      <td>0.0</td>\n",
       "    </tr>\n",
       "    <tr>\n",
       "      <th>Percent</th>\n",
       "      <td>0.0</td>\n",
       "      <td>0.0</td>\n",
       "      <td>0.0</td>\n",
       "      <td>0.0</td>\n",
       "      <td>0.0</td>\n",
       "      <td>0.0</td>\n",
       "      <td>0.0</td>\n",
       "      <td>0.0</td>\n",
       "      <td>0.0</td>\n",
       "      <td>0.0</td>\n",
       "      <td>...</td>\n",
       "      <td>0.0</td>\n",
       "      <td>0.0</td>\n",
       "      <td>0.0</td>\n",
       "      <td>0.0</td>\n",
       "      <td>0.0</td>\n",
       "      <td>0.0</td>\n",
       "      <td>0.0</td>\n",
       "      <td>0.0</td>\n",
       "      <td>0.0</td>\n",
       "      <td>0.0</td>\n",
       "    </tr>\n",
       "  </tbody>\n",
       "</table>\n",
       "<p>2 rows × 23 columns</p>\n",
       "</div>"
      ],
      "text/plain": [
       "         LIMIT_BAL  EDUCATION  MARRIAGE  AGE  PAY_0  PAY_2  PAY_3  PAY_4  \\\n",
       "Total          0.0        0.0       0.0  0.0    0.0    0.0    0.0    0.0   \n",
       "Percent        0.0        0.0       0.0  0.0    0.0    0.0    0.0    0.0   \n",
       "\n",
       "         PAY_5  PAY_6  ...  BILL_AMT4  BILL_AMT5  BILL_AMT6  PAY_AMT1  \\\n",
       "Total      0.0    0.0  ...        0.0        0.0        0.0       0.0   \n",
       "Percent    0.0    0.0  ...        0.0        0.0        0.0       0.0   \n",
       "\n",
       "         PAY_AMT2  PAY_AMT3  PAY_AMT4  PAY_AMT5  PAY_AMT6  \\\n",
       "Total         0.0       0.0       0.0       0.0       0.0   \n",
       "Percent       0.0       0.0       0.0       0.0       0.0   \n",
       "\n",
       "         default payment next month  \n",
       "Total                           0.0  \n",
       "Percent                         0.0  \n",
       "\n",
       "[2 rows x 23 columns]"
      ]
     },
     "execution_count": 5,
     "metadata": {},
     "output_type": "execute_result"
    }
   ],
   "source": [
    "total = data_clean.isnull().sum()\n",
    "percent = (data_clean.isnull().sum()\\\n",
    "           /data_clean.isnull().count()*100)\n",
    "pd.concat([total, percent], axis=1, \\\n",
    "          keys=['Total', 'Percent']).transpose() "
   ]
  },
  {
   "cell_type": "markdown",
   "id": "a788a1a4",
   "metadata": {},
   "source": [
    "Since our data does not have any missing values, no further action is required.\n",
    "<br>\n",
    "However, if it had, we can handle them in several ways:\n",
    "\n",
    "- Drop missing values: Remove all rows or columns containing missing values.\n",
    "- Impute missing values: Fill in missing values with mean, median, mode, or other values.\n",
    "    - SimpleImputer (https://scikit-learn.org/stable/modules/generated/sklearn.impute.SimpleImputer.html)\n",
    "    - KNNImputer (https://scikit-learn.org/stable/modules/generated/sklearn.impute.KNNImputer.html)\n",
    "- Predict missing values: Use a machine learning model to predict missing values.\n",
    "    - IterativeImputer (https://scikit-learn.org/stable/modules/generated/sklearn.impute.IterativeImputer.html)\n",
    "- Using flags to indicate missing values: Add an extra column indicating the presence of missing values.\n",
    "- Interpolation: Interpolating missing values based on other values.\n",
    "    - scipy.interpolate.interp1d (https://docs.scipy.org/doc/scipy/reference/generated/scipy.interpolate.interp1d.html)\n",
    "- Using external sources of data to fill missing values."
   ]
  },
  {
   "cell_type": "markdown",
   "id": "334f6147",
   "metadata": {},
   "source": [
    "It is a good idea to check for class imbalance as well, which can be detected by simply counting the occurrences of each of the classes in the target feature, as shown here:"
   ]
  },
  {
   "cell_type": "code",
   "execution_count": 6,
   "id": "917c87c9",
   "metadata": {},
   "outputs": [
    {
     "name": "stdout",
     "output_type": "stream",
     "text": [
      "yes %: 22.12 - no %: 77.88000000000001\n"
     ]
    }
   ],
   "source": [
    "target = data_clean[\"default payment next month\"]\n",
    "yes = target[target == 1].count()\n",
    "no = target[target == 0].count()\n",
    "print(\"yes %: \" + str(yes/len(target)*100) + \" - no %: \" \\\n",
    "      + str(no/len(target)*100))"
   ]
  },
  {
   "cell_type": "markdown",
   "id": "aca9d61c",
   "metadata": {},
   "source": [
    "These results can also be displayed in a plot using the following lines of code:"
   ]
  },
  {
   "cell_type": "code",
   "execution_count": 7,
   "id": "190449f1",
   "metadata": {},
   "outputs": [
    {
     "data": {
      "image/png": "[encoded data removed]",
      "text/plain": [
       "<Figure size 1000x500 with 1 Axes>"
      ]
     },
     "metadata": {},
     "output_type": "display_data"
    }
   ],
   "source": [
    "import matplotlib.pyplot as plt\n",
    "fig, ax = plt.subplots(figsize=(10,5))\n",
    "plt.bar(\"yes\", yes)\n",
    "plt.bar(\"no\", no)\n",
    "ax.set_yticks([yes,no])\n",
    "plt.xticks(fontsize=15)\n",
    "plt.yticks(fontsize=15)\n",
    "plt.show()"
   ]
  },
  {
   "cell_type": "markdown",
   "id": "42041c0a",
   "metadata": {},
   "source": [
    "To resolve the issue, since no additional data can be added and accuracy is the performance metric, data resampling is required. The code below implements oversampling on the dataset, randomly duplicating rows of the class with fewer representation.\n",
    "\n",
    "<br>\n",
    "\n",
    "Two functions to look into are:\n",
    "\n",
    "- sample https://pandas.pydata.org/docs/reference/api/pandas.DataFrame.sample.html\n",
    "\n",
    "- concat https://pandas.pydata.org/docs/reference/api/pandas.concat.html"
   ]
  },
  {
   "cell_type": "code",
   "execution_count": 8,
   "id": "883e2905",
   "metadata": {},
   "outputs": [],
   "source": [
    "data_yes = data_clean[data_clean[\"default payment next month\"] == 1]\n",
    "data_no = data_clean[data_clean[\"default payment next month\"] == 0]\n",
    "over_sampling = data_yes.sample(no, replace=True, \\\n",
    "                                random_state = 0)\n",
    "data_resampled = pd.concat([data_no, over_sampling], \\\n",
    "                            axis=0)"
   ]
  },
  {
   "cell_type": "markdown",
   "id": "fd1d1d20",
   "metadata": {},
   "source": [
    "Let's split the dataset into a features matrix and a target matrix."
   ]
  },
  {
   "cell_type": "code",
   "execution_count": 9,
   "id": "3b5ff80f",
   "metadata": {},
   "outputs": [],
   "source": [
    "data_resampled = data_resampled.reset_index(drop=True)\n",
    "X = data_resampled.drop(columns=[\"default payment next month\"])\n",
    "y = data_resampled [\"default payment next month\"]"
   ]
  },
  {
   "cell_type": "markdown",
   "id": "1a4c0142",
   "metadata": {},
   "source": [
    "Rescale the values of the features matrix in order to avoid introducing bias to the model:"
   ]
  },
  {
   "cell_type": "code",
   "execution_count": 10,
   "id": "c4aad3de",
   "metadata": {},
   "outputs": [
    {
     "data": {
      "text/html": [
       "<div>\n",
       "<style scoped>\n",
       "    .dataframe tbody tr th:only-of-type {\n",
       "        vertical-align: middle;\n",
       "    }\n",
       "\n",
       "    .dataframe tbody tr th {\n",
       "        vertical-align: top;\n",
       "    }\n",
       "\n",
       "    .dataframe thead th {\n",
       "        text-align: right;\n",
       "    }\n",
       "</style>\n",
       "<table border=\"1\" class=\"dataframe\">\n",
       "  <thead>\n",
       "    <tr style=\"text-align: right;\">\n",
       "      <th></th>\n",
       "      <th>LIMIT_BAL</th>\n",
       "      <th>EDUCATION</th>\n",
       "      <th>MARRIAGE</th>\n",
       "      <th>AGE</th>\n",
       "      <th>PAY_0</th>\n",
       "      <th>PAY_2</th>\n",
       "      <th>PAY_3</th>\n",
       "      <th>PAY_4</th>\n",
       "      <th>PAY_5</th>\n",
       "      <th>PAY_6</th>\n",
       "      <th>...</th>\n",
       "      <th>BILL_AMT3</th>\n",
       "      <th>BILL_AMT4</th>\n",
       "      <th>BILL_AMT5</th>\n",
       "      <th>BILL_AMT6</th>\n",
       "      <th>PAY_AMT1</th>\n",
       "      <th>PAY_AMT2</th>\n",
       "      <th>PAY_AMT3</th>\n",
       "      <th>PAY_AMT4</th>\n",
       "      <th>PAY_AMT5</th>\n",
       "      <th>PAY_AMT6</th>\n",
       "    </tr>\n",
       "  </thead>\n",
       "  <tbody>\n",
       "    <tr>\n",
       "      <th>0</th>\n",
       "      <td>0.080808</td>\n",
       "      <td>0.333333</td>\n",
       "      <td>0.666667</td>\n",
       "      <td>0.224138</td>\n",
       "      <td>0.2</td>\n",
       "      <td>0.2</td>\n",
       "      <td>0.2</td>\n",
       "      <td>0.2</td>\n",
       "      <td>0.2</td>\n",
       "      <td>0.2</td>\n",
       "      <td>...</td>\n",
       "      <td>0.093789</td>\n",
       "      <td>0.173637</td>\n",
       "      <td>0.095470</td>\n",
       "      <td>0.272928</td>\n",
       "      <td>0.001738</td>\n",
       "      <td>0.000891</td>\n",
       "      <td>0.001116</td>\n",
       "      <td>0.001610</td>\n",
       "      <td>0.002345</td>\n",
       "      <td>0.009458</td>\n",
       "    </tr>\n",
       "    <tr>\n",
       "      <th>1</th>\n",
       "      <td>0.040404</td>\n",
       "      <td>0.333333</td>\n",
       "      <td>0.333333</td>\n",
       "      <td>0.275862</td>\n",
       "      <td>0.2</td>\n",
       "      <td>0.2</td>\n",
       "      <td>0.2</td>\n",
       "      <td>0.2</td>\n",
       "      <td>0.2</td>\n",
       "      <td>0.2</td>\n",
       "      <td>...</td>\n",
       "      <td>0.113407</td>\n",
       "      <td>0.186809</td>\n",
       "      <td>0.109363</td>\n",
       "      <td>0.283685</td>\n",
       "      <td>0.002290</td>\n",
       "      <td>0.001199</td>\n",
       "      <td>0.001339</td>\n",
       "      <td>0.001771</td>\n",
       "      <td>0.002506</td>\n",
       "      <td>0.001892</td>\n",
       "    </tr>\n",
       "    <tr>\n",
       "      <th>2</th>\n",
       "      <td>0.040404</td>\n",
       "      <td>0.333333</td>\n",
       "      <td>0.333333</td>\n",
       "      <td>0.620690</td>\n",
       "      <td>0.1</td>\n",
       "      <td>0.2</td>\n",
       "      <td>0.1</td>\n",
       "      <td>0.2</td>\n",
       "      <td>0.2</td>\n",
       "      <td>0.2</td>\n",
       "      <td>...</td>\n",
       "      <td>0.106020</td>\n",
       "      <td>0.179863</td>\n",
       "      <td>0.099633</td>\n",
       "      <td>0.275681</td>\n",
       "      <td>0.002290</td>\n",
       "      <td>0.021779</td>\n",
       "      <td>0.011160</td>\n",
       "      <td>0.014493</td>\n",
       "      <td>0.001615</td>\n",
       "      <td>0.001284</td>\n",
       "    </tr>\n",
       "    <tr>\n",
       "      <th>3</th>\n",
       "      <td>0.040404</td>\n",
       "      <td>0.166667</td>\n",
       "      <td>0.666667</td>\n",
       "      <td>0.275862</td>\n",
       "      <td>0.2</td>\n",
       "      <td>0.2</td>\n",
       "      <td>0.2</td>\n",
       "      <td>0.2</td>\n",
       "      <td>0.2</td>\n",
       "      <td>0.2</td>\n",
       "      <td>...</td>\n",
       "      <td>0.117974</td>\n",
       "      <td>0.178407</td>\n",
       "      <td>0.100102</td>\n",
       "      <td>0.276367</td>\n",
       "      <td>0.002862</td>\n",
       "      <td>0.001078</td>\n",
       "      <td>0.000733</td>\n",
       "      <td>0.001610</td>\n",
       "      <td>0.002345</td>\n",
       "      <td>0.001513</td>\n",
       "    </tr>\n",
       "    <tr>\n",
       "      <th>4</th>\n",
       "      <td>0.494949</td>\n",
       "      <td>0.166667</td>\n",
       "      <td>0.666667</td>\n",
       "      <td>0.137931</td>\n",
       "      <td>0.2</td>\n",
       "      <td>0.2</td>\n",
       "      <td>0.2</td>\n",
       "      <td>0.2</td>\n",
       "      <td>0.2</td>\n",
       "      <td>0.2</td>\n",
       "      <td>...</td>\n",
       "      <td>0.330672</td>\n",
       "      <td>0.671310</td>\n",
       "      <td>0.559578</td>\n",
       "      <td>0.625196</td>\n",
       "      <td>0.062961</td>\n",
       "      <td>0.023749</td>\n",
       "      <td>0.042409</td>\n",
       "      <td>0.032591</td>\n",
       "      <td>0.032237</td>\n",
       "      <td>0.026047</td>\n",
       "    </tr>\n",
       "  </tbody>\n",
       "</table>\n",
       "<p>5 rows × 22 columns</p>\n",
       "</div>"
      ],
      "text/plain": [
       "   LIMIT_BAL  EDUCATION  MARRIAGE       AGE  PAY_0  PAY_2  PAY_3  PAY_4  \\\n",
       "0   0.080808   0.333333  0.666667  0.224138    0.2    0.2    0.2    0.2   \n",
       "1   0.040404   0.333333  0.333333  0.275862    0.2    0.2    0.2    0.2   \n",
       "2   0.040404   0.333333  0.333333  0.620690    0.1    0.2    0.1    0.2   \n",
       "3   0.040404   0.166667  0.666667  0.275862    0.2    0.2    0.2    0.2   \n",
       "4   0.494949   0.166667  0.666667  0.137931    0.2    0.2    0.2    0.2   \n",
       "\n",
       "   PAY_5  PAY_6  ...  BILL_AMT3  BILL_AMT4  BILL_AMT5  BILL_AMT6  PAY_AMT1  \\\n",
       "0    0.2    0.2  ...   0.093789   0.173637   0.095470   0.272928  0.001738   \n",
       "1    0.2    0.2  ...   0.113407   0.186809   0.109363   0.283685  0.002290   \n",
       "2    0.2    0.2  ...   0.106020   0.179863   0.099633   0.275681  0.002290   \n",
       "3    0.2    0.2  ...   0.117974   0.178407   0.100102   0.276367  0.002862   \n",
       "4    0.2    0.2  ...   0.330672   0.671310   0.559578   0.625196  0.062961   \n",
       "\n",
       "   PAY_AMT2  PAY_AMT3  PAY_AMT4  PAY_AMT5  PAY_AMT6  \n",
       "0  0.000891  0.001116  0.001610  0.002345  0.009458  \n",
       "1  0.001199  0.001339  0.001771  0.002506  0.001892  \n",
       "2  0.021779  0.011160  0.014493  0.001615  0.001284  \n",
       "3  0.001078  0.000733  0.001610  0.002345  0.001513  \n",
       "4  0.023749  0.042409  0.032591  0.032237  0.026047  \n",
       "\n",
       "[5 rows x 22 columns]"
      ]
     },
     "execution_count": 10,
     "metadata": {},
     "output_type": "execute_result"
    }
   ],
   "source": [
    "X = (X - X.min())/(X.max() - X.min())\n",
    "X.head()"
   ]
  },
  {
   "cell_type": "markdown",
   "id": "1ce0d37f",
   "metadata": {},
   "source": [
    "To ease the use of the prepared dataset for future tasks, we combine the feature (X) and target (y) matrices into a single Pandas DataFrame and save as a CSV file using the code provided below."
   ]
  },
  {
   "cell_type": "code",
   "execution_count": 11,
   "id": "7d7d0e60",
   "metadata": {},
   "outputs": [],
   "source": [
    "final_data = pd.concat([X, y], axis=1)\n",
    "final_data.to_csv(\"dccc_prepared.csv\", index=False)"
   ]
  },
  {
   "cell_type": "markdown",
   "id": "185a5be6",
   "metadata": {},
   "source": [
    "## Model Training"
   ]
  },
  {
   "cell_type": "markdown",
   "id": "5ca186da",
   "metadata": {},
   "source": [
    "We start by importing all important libraries. The most important one in today's activity is Pytorch. Please read more about Pytorch at https://pytorch.org/docs/stable/index.html"
   ]
  },
  {
   "cell_type": "code",
   "execution_count": 12,
   "id": "e150af31",
   "metadata": {},
   "outputs": [
    {
     "name": "stderr",
     "output_type": "stream",
     "text": [
      "/Users/adilmehmoodkhan/opt/anaconda3/lib/python3.8/site-packages/scipy/__init__.py:146: UserWarning: A NumPy version >=1.16.5 and <1.23.0 is required for this version of SciPy (detected version 1.24.3\n",
      "  warnings.warn(f\"A NumPy version >={np_minversion} and <{np_maxversion}\"\n"
     ]
    },
    {
     "data": {
      "text/plain": [
       "<torch._C.Generator at 0x7ff66b25f1d0>"
      ]
     },
     "execution_count": 12,
     "metadata": {},
     "output_type": "execute_result"
    }
   ],
   "source": [
    "import pandas as pd\n",
    "import numpy as np\n",
    "from sklearn.model_selection import train_test_split\n",
    "from sklearn.utils import shuffle\n",
    "from sklearn.metrics import accuracy_score\n",
    "import torch\n",
    "from torch import nn, optim\n",
    "import torch.nn.functional as F\n",
    "import matplotlib.pyplot as plt\n",
    "torch.manual_seed(0)"
   ]
  },
  {
   "cell_type": "markdown",
   "id": "e5b27da5",
   "metadata": {},
   "source": [
    "Loading the dataset we prepared for modeling in the previous step. "
   ]
  },
  {
   "cell_type": "code",
   "execution_count": 13,
   "id": "e85d81ec",
   "metadata": {},
   "outputs": [
    {
     "data": {
      "text/html": [
       "<div>\n",
       "<style scoped>\n",
       "    .dataframe tbody tr th:only-of-type {\n",
       "        vertical-align: middle;\n",
       "    }\n",
       "\n",
       "    .dataframe tbody tr th {\n",
       "        vertical-align: top;\n",
       "    }\n",
       "\n",
       "    .dataframe thead th {\n",
       "        text-align: right;\n",
       "    }\n",
       "</style>\n",
       "<table border=\"1\" class=\"dataframe\">\n",
       "  <thead>\n",
       "    <tr style=\"text-align: right;\">\n",
       "      <th></th>\n",
       "      <th>LIMIT_BAL</th>\n",
       "      <th>EDUCATION</th>\n",
       "      <th>MARRIAGE</th>\n",
       "      <th>AGE</th>\n",
       "      <th>PAY_0</th>\n",
       "      <th>PAY_2</th>\n",
       "      <th>PAY_3</th>\n",
       "      <th>PAY_4</th>\n",
       "      <th>PAY_5</th>\n",
       "      <th>PAY_6</th>\n",
       "      <th>...</th>\n",
       "      <th>BILL_AMT4</th>\n",
       "      <th>BILL_AMT5</th>\n",
       "      <th>BILL_AMT6</th>\n",
       "      <th>PAY_AMT1</th>\n",
       "      <th>PAY_AMT2</th>\n",
       "      <th>PAY_AMT3</th>\n",
       "      <th>PAY_AMT4</th>\n",
       "      <th>PAY_AMT5</th>\n",
       "      <th>PAY_AMT6</th>\n",
       "      <th>default payment next month</th>\n",
       "    </tr>\n",
       "  </thead>\n",
       "  <tbody>\n",
       "    <tr>\n",
       "      <th>0</th>\n",
       "      <td>0.080808</td>\n",
       "      <td>0.333333</td>\n",
       "      <td>0.666667</td>\n",
       "      <td>0.224138</td>\n",
       "      <td>0.2</td>\n",
       "      <td>0.2</td>\n",
       "      <td>0.2</td>\n",
       "      <td>0.2</td>\n",
       "      <td>0.2</td>\n",
       "      <td>0.2</td>\n",
       "      <td>...</td>\n",
       "      <td>0.173637</td>\n",
       "      <td>0.095470</td>\n",
       "      <td>0.272928</td>\n",
       "      <td>0.001738</td>\n",
       "      <td>0.000891</td>\n",
       "      <td>0.001116</td>\n",
       "      <td>0.001610</td>\n",
       "      <td>0.002345</td>\n",
       "      <td>0.009458</td>\n",
       "      <td>0</td>\n",
       "    </tr>\n",
       "    <tr>\n",
       "      <th>1</th>\n",
       "      <td>0.040404</td>\n",
       "      <td>0.333333</td>\n",
       "      <td>0.333333</td>\n",
       "      <td>0.275862</td>\n",
       "      <td>0.2</td>\n",
       "      <td>0.2</td>\n",
       "      <td>0.2</td>\n",
       "      <td>0.2</td>\n",
       "      <td>0.2</td>\n",
       "      <td>0.2</td>\n",
       "      <td>...</td>\n",
       "      <td>0.186809</td>\n",
       "      <td>0.109363</td>\n",
       "      <td>0.283685</td>\n",
       "      <td>0.002290</td>\n",
       "      <td>0.001199</td>\n",
       "      <td>0.001339</td>\n",
       "      <td>0.001771</td>\n",
       "      <td>0.002506</td>\n",
       "      <td>0.001892</td>\n",
       "      <td>0</td>\n",
       "    </tr>\n",
       "    <tr>\n",
       "      <th>2</th>\n",
       "      <td>0.040404</td>\n",
       "      <td>0.333333</td>\n",
       "      <td>0.333333</td>\n",
       "      <td>0.620690</td>\n",
       "      <td>0.1</td>\n",
       "      <td>0.2</td>\n",
       "      <td>0.1</td>\n",
       "      <td>0.2</td>\n",
       "      <td>0.2</td>\n",
       "      <td>0.2</td>\n",
       "      <td>...</td>\n",
       "      <td>0.179863</td>\n",
       "      <td>0.099633</td>\n",
       "      <td>0.275681</td>\n",
       "      <td>0.002290</td>\n",
       "      <td>0.021779</td>\n",
       "      <td>0.011160</td>\n",
       "      <td>0.014493</td>\n",
       "      <td>0.001615</td>\n",
       "      <td>0.001284</td>\n",
       "      <td>0</td>\n",
       "    </tr>\n",
       "    <tr>\n",
       "      <th>3</th>\n",
       "      <td>0.040404</td>\n",
       "      <td>0.166667</td>\n",
       "      <td>0.666667</td>\n",
       "      <td>0.275862</td>\n",
       "      <td>0.2</td>\n",
       "      <td>0.2</td>\n",
       "      <td>0.2</td>\n",
       "      <td>0.2</td>\n",
       "      <td>0.2</td>\n",
       "      <td>0.2</td>\n",
       "      <td>...</td>\n",
       "      <td>0.178407</td>\n",
       "      <td>0.100102</td>\n",
       "      <td>0.276367</td>\n",
       "      <td>0.002862</td>\n",
       "      <td>0.001078</td>\n",
       "      <td>0.000733</td>\n",
       "      <td>0.001610</td>\n",
       "      <td>0.002345</td>\n",
       "      <td>0.001513</td>\n",
       "      <td>0</td>\n",
       "    </tr>\n",
       "    <tr>\n",
       "      <th>4</th>\n",
       "      <td>0.494949</td>\n",
       "      <td>0.166667</td>\n",
       "      <td>0.666667</td>\n",
       "      <td>0.137931</td>\n",
       "      <td>0.2</td>\n",
       "      <td>0.2</td>\n",
       "      <td>0.2</td>\n",
       "      <td>0.2</td>\n",
       "      <td>0.2</td>\n",
       "      <td>0.2</td>\n",
       "      <td>...</td>\n",
       "      <td>0.671310</td>\n",
       "      <td>0.559578</td>\n",
       "      <td>0.625196</td>\n",
       "      <td>0.062961</td>\n",
       "      <td>0.023749</td>\n",
       "      <td>0.042409</td>\n",
       "      <td>0.032591</td>\n",
       "      <td>0.032237</td>\n",
       "      <td>0.026047</td>\n",
       "      <td>0</td>\n",
       "    </tr>\n",
       "  </tbody>\n",
       "</table>\n",
       "<p>5 rows × 23 columns</p>\n",
       "</div>"
      ],
      "text/plain": [
       "   LIMIT_BAL  EDUCATION  MARRIAGE       AGE  PAY_0  PAY_2  PAY_3  PAY_4  \\\n",
       "0   0.080808   0.333333  0.666667  0.224138    0.2    0.2    0.2    0.2   \n",
       "1   0.040404   0.333333  0.333333  0.275862    0.2    0.2    0.2    0.2   \n",
       "2   0.040404   0.333333  0.333333  0.620690    0.1    0.2    0.1    0.2   \n",
       "3   0.040404   0.166667  0.666667  0.275862    0.2    0.2    0.2    0.2   \n",
       "4   0.494949   0.166667  0.666667  0.137931    0.2    0.2    0.2    0.2   \n",
       "\n",
       "   PAY_5  PAY_6  ...  BILL_AMT4  BILL_AMT5  BILL_AMT6  PAY_AMT1  PAY_AMT2  \\\n",
       "0    0.2    0.2  ...   0.173637   0.095470   0.272928  0.001738  0.000891   \n",
       "1    0.2    0.2  ...   0.186809   0.109363   0.283685  0.002290  0.001199   \n",
       "2    0.2    0.2  ...   0.179863   0.099633   0.275681  0.002290  0.021779   \n",
       "3    0.2    0.2  ...   0.178407   0.100102   0.276367  0.002862  0.001078   \n",
       "4    0.2    0.2  ...   0.671310   0.559578   0.625196  0.062961  0.023749   \n",
       "\n",
       "   PAY_AMT3  PAY_AMT4  PAY_AMT5  PAY_AMT6  default payment next month  \n",
       "0  0.001116  0.001610  0.002345  0.009458                           0  \n",
       "1  0.001339  0.001771  0.002506  0.001892                           0  \n",
       "2  0.011160  0.014493  0.001615  0.001284                           0  \n",
       "3  0.000733  0.001610  0.002345  0.001513                           0  \n",
       "4  0.042409  0.032591  0.032237  0.026047                           0  \n",
       "\n",
       "[5 rows x 23 columns]"
      ]
     },
     "execution_count": 13,
     "metadata": {},
     "output_type": "execute_result"
    }
   ],
   "source": [
    "data = pd.read_csv(\"dccc_prepared.csv\")\n",
    "data.head()"
   ]
  },
  {
   "cell_type": "markdown",
   "id": "8d9ec5aa",
   "metadata": {},
   "source": [
    "Separate the inputs and targets"
   ]
  },
  {
   "cell_type": "code",
   "execution_count": 14,
   "id": "ba8f9886",
   "metadata": {},
   "outputs": [],
   "source": [
    "X = data.iloc[:,:-1]\n",
    "y = data[\"default payment next month\"]"
   ]
  },
  {
   "cell_type": "markdown",
   "id": "1636fcd5",
   "metadata": {},
   "source": [
    "Split the data into three parts:\n",
    "- training data\n",
    "- vaidation data\n",
    "- test data"
   ]
  },
  {
   "cell_type": "code",
   "execution_count": 15,
   "id": "5be57fa3",
   "metadata": {},
   "outputs": [],
   "source": [
    "X_new, X_test, y_new, y_test = train_test_split(X, y, test_size=0.2, random_state=0)\n",
    "dev_per = X_test.shape[0]/X_new.shape[0]\n",
    "X_train, X_dev, y_train, y_dev = train_test_split(X_new, y_new, test_size=dev_per, random_state=0)"
   ]
  },
  {
   "cell_type": "code",
   "execution_count": 16,
   "id": "89f89395",
   "metadata": {},
   "outputs": [
    {
     "name": "stdout",
     "output_type": "stream",
     "text": [
      "Training sets: (28036, 22) (28036,)\n",
      "Validation sets: (9346, 22) (9346,)\n",
      "Testing sets: (9346, 22) (9346,)\n"
     ]
    }
   ],
   "source": [
    "print(\"Training sets:\",X_train.shape, y_train.shape)\n",
    "print(\"Validation sets:\",X_dev.shape, y_dev.shape)\n",
    "print(\"Testing sets:\",X_test.shape, y_test.shape)"
   ]
  },
  {
   "cell_type": "markdown",
   "id": "e38212a1",
   "metadata": {},
   "source": [
    "Convert the validation and testing sets into tensors, considering that the features' matrix should be of the float type, while the target matrix should not. Leave the training sets unconverted for the moment as they will undergo further transformations."
   ]
  },
  {
   "cell_type": "code",
   "execution_count": 17,
   "id": "6c8c88a7",
   "metadata": {},
   "outputs": [],
   "source": [
    "X_dev_torch = torch.tensor(X_dev.values).float()\n",
    "y_dev_torch = torch.tensor(y_dev.values)\n",
    "X_test_torch = torch.tensor(X_test.values).float()\n",
    "y_test_torch = torch.tensor(y_test.values)"
   ]
  },
  {
   "cell_type": "markdown",
   "id": "eaf57ba0",
   "metadata": {},
   "source": [
    "### Tensors\n",
    "\n",
    "It turns out neural network computations are just a bunch of linear algebra operations on tensors, a generalization of matrices. A vector is a 1-dimensional tensor, a matrix is a 2-dimensional tensor, an array with three indices is a 3-dimensional tensor (RGB color images for example). The fundamental data structure for neural networks are tensors and PyTorch (as well as pretty much every other deep learning framework) is built around tensors.\n",
    " \n",
    "\n",
    "<img src=\"tensor_examples.svg\" width=\"600px\">\n",
    "\n",
    "Just like Numpy arrays, Pytorch tensors can be added, multiplied, subtracted, etc."
   ]
  },
  {
   "cell_type": "markdown",
   "id": "98c0ffc6",
   "metadata": {},
   "source": [
    "Using PyTorch's custom modules, create a class called Classifier and define the model's architecture so that\n",
    "it has \n",
    "\n",
    "- three hidden layers all having ReLU activation function, \n",
    "- and a output layer having Log Softmax activation function:"
   ]
  },
  {
   "cell_type": "code",
   "execution_count": 18,
   "id": "2937a45d",
   "metadata": {},
   "outputs": [],
   "source": [
    "class Classifier(nn.Module):\n",
    "    def __init__(self, input_size):\n",
    "        super().__init__()\n",
    "        self.hidden_1 = nn.Linear(input_size, 10)\n",
    "        self.hidden_2 = nn.Linear(10, 10)\n",
    "        self.hidden_3 = nn.Linear(10, 10)\n",
    "        self.output = nn.Linear(10, 2)\n",
    "        \n",
    "    def forward(self, x):\n",
    "        z = F.relu(self.hidden_1(x))\n",
    "        z = F.relu(self.hidden_2(z))\n",
    "        z = F.relu(self.hidden_3(z))\n",
    "        out = F.log_softmax(self.output(z), dim=1)\n",
    "        \n",
    "        return out"
   ]
  },
  {
   "cell_type": "markdown",
   "id": "1ea9d45d",
   "metadata": {},
   "source": [
    "Instantiate the model and define all the variables required to train the model. Set the number of epochs to 50 and the batch size to 128. Use a learning rate of 0.001:"
   ]
  },
  {
   "cell_type": "code",
   "execution_count": 19,
   "id": "cf4c1aeb",
   "metadata": {},
   "outputs": [],
   "source": [
    "model = Classifier(X_train.shape[1])\n",
    "criterion = nn.NLLLoss()\n",
    "optimizer = optim.Adam(model.parameters(), lr=0.001)\n",
    "\n",
    "epochs = 50\n",
    "batch_size = 128"
   ]
  },
  {
   "cell_type": "markdown",
   "id": "87cbd3a5",
   "metadata": {},
   "source": [
    "Train the network using the training sets. Use the validation sets to measure performance. To do this, save the loss and the accuracy for both the training and validation sets in each epoch:"
   ]
  },
  {
   "cell_type": "code",
   "execution_count": 20,
   "id": "f348cf6d",
   "metadata": {},
   "outputs": [
    {
     "name": "stdout",
     "output_type": "stream",
     "text": [
      "Epoch: 1/50..  Training Loss: 0.672..  Validation Loss: 0.627..  Training Accuracy: 0.576..  Validation Accuracy: 0.660\n",
      "Epoch: 2/50..  Training Loss: 0.616..  Validation Loss: 0.607..  Training Accuracy: 0.667..  Validation Accuracy: 0.676\n",
      "Epoch: 3/50..  Training Loss: 0.605..  Validation Loss: 0.604..  Training Accuracy: 0.684..  Validation Accuracy: 0.682\n",
      "Epoch: 4/50..  Training Loss: 0.597..  Validation Loss: 0.597..  Training Accuracy: 0.692..  Validation Accuracy: 0.689\n",
      "Epoch: 5/50..  Training Loss: 0.594..  Validation Loss: 0.595..  Training Accuracy: 0.693..  Validation Accuracy: 0.690\n",
      "Epoch: 6/50..  Training Loss: 0.590..  Validation Loss: 0.593..  Training Accuracy: 0.695..  Validation Accuracy: 0.691\n",
      "Epoch: 7/50..  Training Loss: 0.589..  Validation Loss: 0.592..  Training Accuracy: 0.693..  Validation Accuracy: 0.689\n",
      "Epoch: 8/50..  Training Loss: 0.585..  Validation Loss: 0.588..  Training Accuracy: 0.695..  Validation Accuracy: 0.691\n",
      "Epoch: 9/50..  Training Loss: 0.581..  Validation Loss: 0.586..  Training Accuracy: 0.702..  Validation Accuracy: 0.698\n",
      "Epoch: 10/50..  Training Loss: 0.581..  Validation Loss: 0.584..  Training Accuracy: 0.701..  Validation Accuracy: 0.698\n",
      "Epoch: 11/50..  Training Loss: 0.578..  Validation Loss: 0.584..  Training Accuracy: 0.704..  Validation Accuracy: 0.698\n",
      "Epoch: 12/50..  Training Loss: 0.576..  Validation Loss: 0.582..  Training Accuracy: 0.705..  Validation Accuracy: 0.698\n",
      "Epoch: 13/50..  Training Loss: 0.573..  Validation Loss: 0.581..  Training Accuracy: 0.706..  Validation Accuracy: 0.699\n",
      "Epoch: 14/50..  Training Loss: 0.572..  Validation Loss: 0.577..  Training Accuracy: 0.707..  Validation Accuracy: 0.700\n",
      "Epoch: 15/50..  Training Loss: 0.573..  Validation Loss: 0.576..  Training Accuracy: 0.705..  Validation Accuracy: 0.700\n",
      "Epoch: 16/50..  Training Loss: 0.570..  Validation Loss: 0.576..  Training Accuracy: 0.706..  Validation Accuracy: 0.702\n",
      "Epoch: 17/50..  Training Loss: 0.569..  Validation Loss: 0.574..  Training Accuracy: 0.706..  Validation Accuracy: 0.701\n",
      "Epoch: 18/50..  Training Loss: 0.567..  Validation Loss: 0.573..  Training Accuracy: 0.708..  Validation Accuracy: 0.702\n",
      "Epoch: 19/50..  Training Loss: 0.565..  Validation Loss: 0.571..  Training Accuracy: 0.711..  Validation Accuracy: 0.703\n",
      "Epoch: 20/50..  Training Loss: 0.565..  Validation Loss: 0.571..  Training Accuracy: 0.712..  Validation Accuracy: 0.703\n",
      "Epoch: 21/50..  Training Loss: 0.564..  Validation Loss: 0.571..  Training Accuracy: 0.711..  Validation Accuracy: 0.703\n",
      "Epoch: 22/50..  Training Loss: 0.564..  Validation Loss: 0.571..  Training Accuracy: 0.709..  Validation Accuracy: 0.704\n",
      "Epoch: 23/50..  Training Loss: 0.566..  Validation Loss: 0.569..  Training Accuracy: 0.711..  Validation Accuracy: 0.704\n",
      "Epoch: 24/50..  Training Loss: 0.563..  Validation Loss: 0.569..  Training Accuracy: 0.710..  Validation Accuracy: 0.703\n",
      "Epoch: 25/50..  Training Loss: 0.563..  Validation Loss: 0.569..  Training Accuracy: 0.710..  Validation Accuracy: 0.706\n",
      "Epoch: 26/50..  Training Loss: 0.562..  Validation Loss: 0.570..  Training Accuracy: 0.711..  Validation Accuracy: 0.706\n",
      "Epoch: 27/50..  Training Loss: 0.562..  Validation Loss: 0.568..  Training Accuracy: 0.711..  Validation Accuracy: 0.707\n",
      "Epoch: 28/50..  Training Loss: 0.563..  Validation Loss: 0.568..  Training Accuracy: 0.711..  Validation Accuracy: 0.707\n",
      "Epoch: 29/50..  Training Loss: 0.562..  Validation Loss: 0.571..  Training Accuracy: 0.713..  Validation Accuracy: 0.710\n",
      "Epoch: 30/50..  Training Loss: 0.561..  Validation Loss: 0.566..  Training Accuracy: 0.711..  Validation Accuracy: 0.708\n",
      "Epoch: 31/50..  Training Loss: 0.561..  Validation Loss: 0.567..  Training Accuracy: 0.713..  Validation Accuracy: 0.708\n",
      "Epoch: 32/50..  Training Loss: 0.560..  Validation Loss: 0.566..  Training Accuracy: 0.714..  Validation Accuracy: 0.708\n",
      "Epoch: 33/50..  Training Loss: 0.559..  Validation Loss: 0.564..  Training Accuracy: 0.712..  Validation Accuracy: 0.706\n",
      "Epoch: 34/50..  Training Loss: 0.559..  Validation Loss: 0.565..  Training Accuracy: 0.713..  Validation Accuracy: 0.709\n",
      "Epoch: 35/50..  Training Loss: 0.558..  Validation Loss: 0.565..  Training Accuracy: 0.713..  Validation Accuracy: 0.709\n",
      "Epoch: 36/50..  Training Loss: 0.557..  Validation Loss: 0.568..  Training Accuracy: 0.714..  Validation Accuracy: 0.710\n",
      "Epoch: 37/50..  Training Loss: 0.558..  Validation Loss: 0.565..  Training Accuracy: 0.714..  Validation Accuracy: 0.710\n",
      "Epoch: 38/50..  Training Loss: 0.558..  Validation Loss: 0.565..  Training Accuracy: 0.713..  Validation Accuracy: 0.710\n",
      "Epoch: 39/50..  Training Loss: 0.558..  Validation Loss: 0.564..  Training Accuracy: 0.713..  Validation Accuracy: 0.708\n",
      "Epoch: 40/50..  Training Loss: 0.556..  Validation Loss: 0.564..  Training Accuracy: 0.716..  Validation Accuracy: 0.708\n",
      "Epoch: 41/50..  Training Loss: 0.557..  Validation Loss: 0.566..  Training Accuracy: 0.714..  Validation Accuracy: 0.707\n",
      "Epoch: 42/50..  Training Loss: 0.556..  Validation Loss: 0.566..  Training Accuracy: 0.715..  Validation Accuracy: 0.705\n",
      "Epoch: 43/50..  Training Loss: 0.556..  Validation Loss: 0.566..  Training Accuracy: 0.716..  Validation Accuracy: 0.712\n",
      "Epoch: 44/50..  Training Loss: 0.556..  Validation Loss: 0.563..  Training Accuracy: 0.716..  Validation Accuracy: 0.709\n",
      "Epoch: 45/50..  Training Loss: 0.555..  Validation Loss: 0.568..  Training Accuracy: 0.717..  Validation Accuracy: 0.712\n",
      "Epoch: 46/50..  Training Loss: 0.557..  Validation Loss: 0.562..  Training Accuracy: 0.714..  Validation Accuracy: 0.709\n",
      "Epoch: 47/50..  Training Loss: 0.554..  Validation Loss: 0.564..  Training Accuracy: 0.716..  Validation Accuracy: 0.709\n",
      "Epoch: 48/50..  Training Loss: 0.557..  Validation Loss: 0.565..  Training Accuracy: 0.715..  Validation Accuracy: 0.706\n",
      "Epoch: 49/50..  Training Loss: 0.555..  Validation Loss: 0.564..  Training Accuracy: 0.715..  Validation Accuracy: 0.710\n",
      "Epoch: 50/50..  Training Loss: 0.555..  Validation Loss: 0.562..  Training Accuracy: 0.716..  Validation Accuracy: 0.711\n"
     ]
    }
   ],
   "source": [
    "train_losses, dev_losses, train_acc, dev_acc= [], [], [], []\n",
    "\n",
    "for e in range(epochs):\n",
    "    X_, y_ = shuffle(X_train, y_train)\n",
    "    running_loss = 0\n",
    "    running_acc = 0\n",
    "    iterations = 0\n",
    "    \n",
    "    for i in range(0, len(X_), batch_size):\n",
    "        iterations += 1\n",
    "        b = i + batch_size\n",
    "        X_batch = torch.tensor(X_.iloc[i:b,:].values).float()\n",
    "        y_batch = torch.tensor(y_.iloc[i:b].values)\n",
    "        \n",
    "        pred = model(X_batch)\n",
    "        loss = criterion(pred, y_batch)\n",
    "        optimizer.zero_grad()\n",
    "        loss.backward()\n",
    "        optimizer.step()\n",
    "        \n",
    "        running_loss += loss.item()\n",
    "        ps = torch.exp(pred)\n",
    "        top_p, top_class = ps.topk(1, dim=1)\n",
    "        running_acc += accuracy_score(y_batch, top_class)\n",
    "        \n",
    "    dev_loss = 0\n",
    "    acc = 0\n",
    "\n",
    "    # Turn off gradients for validation, saves memory and computations\n",
    "    with torch.no_grad():\n",
    "        pred_dev = model(X_dev_torch)\n",
    "        dev_loss = criterion(pred_dev, y_dev_torch)\n",
    "\n",
    "        ps_dev = torch.exp(pred_dev)\n",
    "        top_p, top_class_dev = ps_dev.topk(1, dim=1)\n",
    "        acc = accuracy_score(y_dev_torch, top_class_dev)\n",
    "\n",
    "    train_losses.append(running_loss/iterations)\n",
    "    dev_losses.append(dev_loss)\n",
    "    train_acc.append(running_acc/iterations)\n",
    "    dev_acc.append(acc)\n",
    "\n",
    "    print(\"Epoch: {}/{}.. \".format(e+1, epochs),\n",
    "          \"Training Loss: {:.3f}.. \".format(running_loss/iterations),\n",
    "          \"Validation Loss: {:.3f}.. \".format(dev_loss),\n",
    "          \"Training Accuracy: {:.3f}.. \".format(running_acc/iterations),\n",
    "          \"Validation Accuracy: {:.3f}\".format(acc))"
   ]
  },
  {
   "cell_type": "markdown",
   "id": "8b8267c6",
   "metadata": {},
   "source": [
    "Plot both the training and the validation loss"
   ]
  },
  {
   "cell_type": "code",
   "execution_count": 21,
   "id": "cb06d221",
   "metadata": {},
   "outputs": [
    {
     "data": {
      "image/png": "[encoded data removed]",
      "text/plain": [
       "<Figure size 1500x500 with 1 Axes>"
      ]
     },
     "metadata": {},
     "output_type": "display_data"
    }
   ],
   "source": [
    "fig = plt.figure(figsize=(15, 5))\n",
    "plt.plot(train_losses, label='Training loss')\n",
    "plt.plot(dev_losses, label='Validation loss')\n",
    "plt.legend(frameon=False, fontsize=15)\n",
    "plt.show()"
   ]
  },
  {
   "cell_type": "markdown",
   "id": "dba34680",
   "metadata": {},
   "source": [
    "Also plot the training and the validation accuracy"
   ]
  },
  {
   "cell_type": "code",
   "execution_count": 22,
   "id": "0b6c8f44",
   "metadata": {},
   "outputs": [
    {
     "data": {
      "image/png": "[encoded data removed]",
      "text/plain": [
       "<Figure size 1500x500 with 1 Axes>"
      ]
     },
     "metadata": {},
     "output_type": "display_data"
    }
   ],
   "source": [
    "fig = plt.figure(figsize=(15, 5))\n",
    "plt.plot(train_acc, label=\"Training accuracy\")\n",
    "plt.plot(dev_acc, label=\"Validation accuracy\")\n",
    "plt.legend(frameon=False, fontsize=15)\n",
    "plt.show()"
   ]
  },
  {
   "cell_type": "markdown",
   "id": "aa7c96a8",
   "metadata": {},
   "source": [
    "## Self-Learning Task"
   ]
  },
  {
   "cell_type": "markdown",
   "id": "5aff5322",
   "metadata": {},
   "source": [
    "Based on the error and training curves, what do you think - is the model underfitting or overfitting? Based on your answer, take steps to overcome the issue and demonstrate to yourself that after making those changes the model works better. "
   ]
  },
  {
   "cell_type": "markdown",
   "id": "94ba264f",
   "metadata": {},
   "source": [
    "For example, if the model is suffering from high bias, one thing you can do is to increase the number of epochs or increase the size of the network by adding additional layers or units to each layer. The aim should be to approximate the accuracy over the validation set to 80%."
   ]
  },
  {
   "cell_type": "markdown",
   "id": "6c8ff468",
   "metadata": {},
   "source": [
    "Once you have found a model which is performing well on the validation data, test it on the test set to see its final performance, as shown below."
   ]
  },
  {
   "cell_type": "code",
   "execution_count": 23,
   "id": "ce9abf84",
   "metadata": {},
   "outputs": [
    {
     "name": "stdout",
     "output_type": "stream",
     "text": [
      "0.7105713674299166\n"
     ]
    }
   ],
   "source": [
    "model.eval()\n",
    "test_pred = model(X_test_torch)\n",
    "test_pred = torch.exp(test_pred)\n",
    "top_p, top_class_test = test_pred.topk(1, dim=1)\n",
    "acc_test = accuracy_score(y_test_torch, top_class_test)\n",
    "print(acc_test)"
   ]
  },
  {
   "cell_type": "code",
   "execution_count": null,
   "id": "9ce5f57e",
   "metadata": {},
   "outputs": [],
   "source": []
  }
 ],
 "metadata": {
  "kernelspec": {
   "display_name": "Python 3 (ipykernel)",
   "language": "python",
   "name": "python3"
  },
  "language_info": {
   "codemirror_mode": {
    "name": "ipython",
    "version": 3
   },
   "file_extension": ".py",
   "mimetype": "text/x-python",
   "name": "python",
   "nbconvert_exporter": "python",
   "pygments_lexer": "ipython3",
   "version": "3.8.8"
  }
 },
 "nbformat": 4,
 "nbformat_minor": 5
}
