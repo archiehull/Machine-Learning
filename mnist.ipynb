{
    "cells": [
        {
            "cell_type": "code",
            "execution_count": null,
            "metadata": {},
            "outputs": [],
            "source": [
                "import matplotlib.pyplot as plt\n",
                "import numpy as np\n",
                "import os\n",
                "import random\n",
                "from PIL import Image\n",
                "from sklearn.model_selection import train_test_split\n",
                "from sklearn.linear_model import LogisticRegression\n",
                "from sklearn.metrics import accuracy_score, classification_report, confusion_matrix, ConfusionMatrixDisplay\n"
            ]
        },
        {
            "cell_type": "code",
            "execution_count": null,
            "metadata": {},
            "outputs": [],
            "source": [
                "#randomise the set the image is taken from\n",
                "type_select=random.randint(1,3)\n",
                "if(type_select==3):\n",
                "    db_set='val/'\n",
                "elif(type_select==2):\n",
                "    db_set='train/'\n",
                "elif(type_select==1):\n",
                "    db_set='test/'"
            ]
        },
        {
            "cell_type": "code",
            "execution_count": null,
            "metadata": {},
            "outputs": [],
            "source": [
                "#init image database path\n",
                "db_path='./triple_mnist/'\n",
                "\n",
                "#combine set with db path\n",
                "set_path=db_path+db_set\n",
                "\n",
                "#create list of all subfolders in set\n",
                "sub_folders=os.listdir(set_path)\n",
                "\n",
                "#init images array\n",
                "imgs=[]\n",
                "\n",
                "for i in range(5):\n",
                "    #select random subfolder and get pathname\n",
                "    subfolder=random.choice(sub_folders)\n",
                "    subfolder_path = os.path.join(set_path, subfolder)\n",
                "\n",
                "    #select random image and get pathname\n",
                "    img=random.choice(os.listdir(subfolder_path))\n",
                "    img_path=os.path.join(subfolder_path, img)\n",
                "\n",
                "    #open image and add to array\n",
                "    img=Image.open(img_path)\n",
                "    imgs.append((img, subfolder))\n"
            ]
        },
        {
            "cell_type": "code",
            "execution_count": null,
            "metadata": {},
            "outputs": [],
            "source": [
                "#display images using matplotlib\n",
                "plt.figure(figsize=(10, 5))\n",
                "for i, (image, label) in enumerate(imgs, start=1):\n",
                "    plt.subplot(1, len(imgs), i)\n",
                "    plt.imshow(image, cmap='gray')\n",
                "    plt.title(f'Label: {label}')\n",
                "    plt.axis('off')\n",
                "plt.show()\n"
            ]
        },
        {
            "cell_type": "code",
            "execution_count": null,
            "metadata": {},
            "outputs": [],
            "source": [
                "db_path='./triple_mnist/'\n",
                "\n",
                "def flatten_toarray(set):\n",
                "    set_path=db_path+set\n",
                "    sub_folders=os.listdir(set_path)\n",
                "\n",
                "    imgs=[]\n",
                "    labels=[]\n",
                "\n",
                "    for folder in sub_folders:\n",
                "        subfolder_path = os.path.join(set_path, folder)\n",
                "        \n",
                "        for img_file in os.listdir(subfolder_path):\n",
                "            img_path = os.path.join(subfolder_path, img_file)\n",
                "\n",
                "            flattened_img = np.array(Image.open(img_path)).flatten()\n",
                "\n",
                "            imgs.append(flattened_img)\n",
                "            labels.append(folder)\n",
                "\n",
                "    return np.array(imgs), np.array(labels)\n",
                "\n",
                "\n",
                "train_imgs, train_labels = flatten_toarray('train')\n",
                "test_imgs, test_labels = flatten_toarray('test')\n",
                "val_imgs, val_labels = flatten_toarray('val')\n",
                "\n",
                "\n",
                "\n"
            ]
        },
        {
            "cell_type": "code",
            "execution_count": null,
            "metadata": {},
            "outputs": [],
            "source": [
                "log_reg = LogisticRegression(max_iter=1000, multi_class='multinomial', solver='lbfgs')\n",
                "\n",
                "log_reg.fit(train_imgs, train_labels)"
            ]
        },
        {
            "cell_type": "code",
            "execution_count": null,
            "metadata": {},
            "outputs": [],
            "source": [
                "train_pred = log_reg.predict(train_imgs)\n",
                "val_pred = log_reg.predict(val_imgs)\n",
                "test_pred = log_reg.predict(test_imgs)"
            ]
        },
        {
            "cell_type": "code",
            "execution_count": null,
            "metadata": {},
            "outputs": [],
            "source": [
                "train_accuracy = accuracy_score(train_labels, train_pred)\n",
                "val_accuracy = accuracy_score(val_labels, val_pred)\n",
                "test_accuracy = accuracy_score(test_labels, test_pred)\n",
                "\n",
                "# Print the accuracy scores\n",
                "print(f'Training Accuracy: {train_accuracy}')\n",
                "print(f'Validation Accuracy: {val_accuracy}')\n",
                "print(f'Testing Accuracy: {test_accuracy}')\n",
                "\n",
                "# Detailed classification report for test set\n",
                "print(\"\nClassification Report on Test Set:\")\n",
                "print(classification_report(test_labels, test_pred))"
            ]
        },
        {
            "cell_type": "code",
            "execution_count": null,
            "metadata": {},
            "outputs": [],
            "source": [
                "# Create a bar chart for the accuracy scores\n",
                "plt.figure(figsize=(8, 6))\n",
                "plt.bar(['Train Accuracy', 'Validation Accuracy', 'Test Accuracy'], \n",
                "        [train_accuracy, val_accuracy, test_accuracy], \n",
                "        color=['blue', 'green', 'red'])\n",
                "plt.ylim(0, 1)\n",
                "plt.ylabel('Accuracy')\n",
                "plt.title('Model Accuracy on Training, Validation, and Test Sets')\n",
                "plt.show()\n",
                "\n",
                "# Confusion Matrix for Test Set\n",
                "# Note: This might be a large matrix if there are many classes\n",
                "conf_matrix = confusion_matrix(test_labels, test_pred, labels=log_reg.classes_)\n",
                "disp = ConfusionMatrixDisplay(confusion_matrix=conf_matrix, display_labels=log_reg.classes_)\n",
                "plt.figure(figsize=(10, 10))\n",
                "disp.plot(cmap='Blues', values_format='d')\n",
                "plt.title('Confusion Matrix for Test Set')\n",
                "plt.xticks(rotation=90)\n",
                "plt.show()"
            ]
        }
    ],
    "metadata": {
        "kernelspec": {
            "display_name": "Python 3",
            "language": "python",
            "name": "python3"
        },
        "language_info": {
            "codemirror_mode": {
                "name": "ipython",
                "version": 3
            },
            "file_extension": ".py",
            "mimetype": "text/x-python",
            "name": "python",
            "nbconvert_exporter": "python",
            "pygments_lexer": "ipython3",
            "version": "3.11.5"
        }
    },
    "nbformat": 4,
    "nbformat_minor": 2
}